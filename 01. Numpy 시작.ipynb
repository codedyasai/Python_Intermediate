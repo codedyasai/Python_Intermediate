{
 "cells": [
  {
   "cell_type": "markdown",
   "id": "b41b15ce",
   "metadata": {},
   "source": [
    "# Numpy\n",
    "- C언어로 구현된 파이썬 라이브러리\n",
    "- 고성능 수치계산을 위해 제작\n",
    "- Numerical Python\n",
    "- 벡터 및 행렬 연산에 매우 편리한 기능 제공\n",
    "- Pandas와 matplotlib과 더블어 데이터분석에 필수 라이브러리\n",
    "- 기본적으로 array 단위로 데이터 처리\n",
    "- 대표적인 자료형 : ndarray 객체"
   ]
  },
  {
   "cell_type": "markdown",
   "id": "8021f420",
   "metadata": {},
   "source": [
    "## Numpy"
   ]
  },
  {
   "cell_type": "code",
   "execution_count": 1,
   "id": "4cfb3d56",
   "metadata": {
    "ExecuteTime": {
     "end_time": "2023-09-22T03:09:47.868361Z",
     "start_time": "2023-09-22T03:09:47.864378Z"
    }
   },
   "outputs": [],
   "source": [
    "# numpy 모듈 불러오기\n",
    "import numpy as np"
   ]
  },
  {
   "cell_type": "markdown",
   "id": "c91bdae4",
   "metadata": {},
   "source": [
    "## Array 정의 및 사용"
   ]
  },
  {
   "cell_type": "code",
   "execution_count": 2,
   "id": "5a32d770",
   "metadata": {
    "ExecuteTime": {
     "end_time": "2023-09-22T03:10:52.434882Z",
     "start_time": "2023-09-22T03:10:52.419247Z"
    }
   },
   "outputs": [
    {
     "data": {
      "text/plain": [
       "[1, 2, 3, 4, 5]"
      ]
     },
     "execution_count": 2,
     "metadata": {},
     "output_type": "execute_result"
    }
   ],
   "source": [
    "# Python의 List 이용\n",
    "a = [1, 2, 3, 4, 5]\n",
    "a"
   ]
  },
  {
   "cell_type": "code",
   "execution_count": 3,
   "id": "0c5830d5",
   "metadata": {
    "ExecuteTime": {
     "end_time": "2023-09-22T03:11:05.260784Z",
     "start_time": "2023-09-22T03:11:05.255785Z"
    }
   },
   "outputs": [
    {
     "data": {
      "text/plain": [
       "[1, 2, 3, 4, 5]"
      ]
     },
     "execution_count": 3,
     "metadata": {},
     "output_type": "execute_result"
    }
   ],
   "source": [
    "b = [1, 2, 3, 4, 5]\n",
    "b"
   ]
  },
  {
   "cell_type": "code",
   "execution_count": 4,
   "id": "033f96fb",
   "metadata": {
    "ExecuteTime": {
     "end_time": "2023-09-22T03:11:33.423040Z",
     "start_time": "2023-09-22T03:11:33.403324Z"
    }
   },
   "outputs": [
    {
     "data": {
      "text/plain": [
       "array([1, 2, 3, 4, 5])"
      ]
     },
     "execution_count": 4,
     "metadata": {},
     "output_type": "execute_result"
    }
   ],
   "source": [
    "arr1 = np.array(a)\n",
    "arr1"
   ]
  },
  {
   "cell_type": "code",
   "execution_count": 5,
   "id": "32660c4f",
   "metadata": {
    "ExecuteTime": {
     "end_time": "2023-09-22T03:12:01.958476Z",
     "start_time": "2023-09-22T03:12:01.951513Z"
    }
   },
   "outputs": [
    {
     "data": {
      "text/plain": [
       "array([1, 2, 3, 4, 5])"
      ]
     },
     "execution_count": 5,
     "metadata": {},
     "output_type": "execute_result"
    }
   ],
   "source": [
    "arr2 = np.array([1, 2, 3, 4, 5])\n",
    "arr2"
   ]
  },
  {
   "cell_type": "code",
   "execution_count": 6,
   "id": "ca368f1f",
   "metadata": {
    "ExecuteTime": {
     "end_time": "2023-09-22T03:12:32.523317Z",
     "start_time": "2023-09-22T03:12:32.514986Z"
    }
   },
   "outputs": [
    {
     "data": {
      "text/plain": [
       "(5,)"
      ]
     },
     "execution_count": 6,
     "metadata": {},
     "output_type": "execute_result"
    }
   ],
   "source": [
    "# array 형태(크기) 확인\n",
    "arr1.shape"
   ]
  },
  {
   "cell_type": "code",
   "execution_count": 7,
   "id": "784dc1fb",
   "metadata": {
    "ExecuteTime": {
     "end_time": "2023-09-22T03:13:06.821140Z",
     "start_time": "2023-09-22T03:13:06.813050Z"
    }
   },
   "outputs": [
    {
     "data": {
      "text/plain": [
       "dtype('int32')"
      ]
     },
     "execution_count": 7,
     "metadata": {},
     "output_type": "execute_result"
    }
   ],
   "source": [
    "# array 자료형 확인\n",
    "arr1.dtype"
   ]
  },
  {
   "cell_type": "markdown",
   "id": "af260c68",
   "metadata": {},
   "source": [
    "## 1.3 배열 생성 : Numpy가 제공하는 함수를 이용한 단순 배열 생성\n",
    "- zeros, ones\n",
    "- zeros_like, ones_like\n",
    "- empty\n",
    "- arange\n",
    "- linespace, logspace"
   ]
  },
  {
   "cell_type": "code",
   "execution_count": 8,
   "id": "2ce2b2b1",
   "metadata": {
    "ExecuteTime": {
     "end_time": "2023-09-22T03:16:59.076068Z",
     "start_time": "2023-09-22T03:16:59.068095Z"
    }
   },
   "outputs": [
    {
     "data": {
      "text/plain": [
       "array([0., 0., 0., 0., 0.])"
      ]
     },
     "execution_count": 8,
     "metadata": {},
     "output_type": "execute_result"
    }
   ],
   "source": [
    "# 0인 배열 생성 : zeros(배열의 크기)\n",
    "a = np.zeros(5)\n",
    "a"
   ]
  },
  {
   "cell_type": "code",
   "execution_count": 9,
   "id": "2a39ab19",
   "metadata": {
    "ExecuteTime": {
     "end_time": "2023-09-22T03:17:41.920330Z",
     "start_time": "2023-09-22T03:17:41.912789Z"
    }
   },
   "outputs": [
    {
     "data": {
      "text/plain": [
       "array([0, 0, 0, 0, 0], dtype=int32)"
      ]
     },
     "execution_count": 9,
     "metadata": {},
     "output_type": "execute_result"
    }
   ],
   "source": [
    "b = np.zeros(5, dtype=\"i\")\n",
    "b"
   ]
  },
  {
   "cell_type": "markdown",
   "id": "21d6ff6c",
   "metadata": {},
   "source": [
    "- numpy 자료형, dtype의 접두사\n",
    "- \"i\" : 정수형\n",
    "- \"u\" : uint(unsign int), 부호가 없는 정수\n",
    "- \"f\" : float\n",
    "- \"b\" : 논리형(bool)\n",
    "- \"c\" : 복소수(complex)\n",
    "- \"s\" : 문자열(string)"
   ]
  },
  {
   "cell_type": "code",
   "execution_count": 10,
   "id": "3ceb0cf3",
   "metadata": {
    "ExecuteTime": {
     "end_time": "2023-09-22T03:21:02.552028Z",
     "start_time": "2023-09-22T03:21:02.543971Z"
    }
   },
   "outputs": [
    {
     "data": {
      "text/plain": [
       "dtype('float32')"
      ]
     },
     "execution_count": 10,
     "metadata": {},
     "output_type": "execute_result"
    }
   ],
   "source": [
    "x = np.array([1, 2, 3], dtype='f')\n",
    "x.dtype"
   ]
  },
  {
   "cell_type": "code",
   "execution_count": 11,
   "id": "222c0d1a",
   "metadata": {
    "ExecuteTime": {
     "end_time": "2023-09-22T03:22:08.300212Z",
     "start_time": "2023-09-22T03:22:08.291948Z"
    }
   },
   "outputs": [
    {
     "data": {
      "text/plain": [
       "array([[0., 0., 0.],\n",
       "       [0., 0., 0.]])"
      ]
     },
     "execution_count": 11,
     "metadata": {},
     "output_type": "execute_result"
    }
   ],
   "source": [
    "b = np.zeros((2, 3))\n",
    "b"
   ]
  },
  {
   "cell_type": "code",
   "execution_count": 12,
   "id": "ed20e0b6",
   "metadata": {
    "ExecuteTime": {
     "end_time": "2023-09-22T03:22:33.267267Z",
     "start_time": "2023-09-22T03:22:33.259269Z"
    }
   },
   "outputs": [
    {
     "data": {
      "text/plain": [
       "array([[0, 0],\n",
       "       [0, 0],\n",
       "       [0, 0],\n",
       "       [0, 0],\n",
       "       [0, 0]], dtype=int32)"
      ]
     },
     "execution_count": 12,
     "metadata": {},
     "output_type": "execute_result"
    }
   ],
   "source": [
    "c = np.zeros((5, 2), dtype='i')\n",
    "c"
   ]
  },
  {
   "cell_type": "code",
   "execution_count": 13,
   "id": "bbfde60c",
   "metadata": {
    "ExecuteTime": {
     "end_time": "2023-09-22T03:23:28.717737Z",
     "start_time": "2023-09-22T03:23:28.709249Z"
    }
   },
   "outputs": [
    {
     "data": {
      "text/plain": [
       "array([[[1., 1., 1., 1.],\n",
       "        [1., 1., 1., 1.],\n",
       "        [1., 1., 1., 1.]],\n",
       "\n",
       "       [[1., 1., 1., 1.],\n",
       "        [1., 1., 1., 1.],\n",
       "        [1., 1., 1., 1.]]])"
      ]
     },
     "execution_count": 13,
     "metadata": {},
     "output_type": "execute_result"
    }
   ],
   "source": [
    "e = np.ones((2, 3, 4))\n",
    "e"
   ]
  },
  {
   "cell_type": "code",
   "execution_count": 14,
   "id": "c43162b1",
   "metadata": {
    "ExecuteTime": {
     "end_time": "2023-09-22T03:24:21.988381Z",
     "start_time": "2023-09-22T03:24:21.978415Z"
    }
   },
   "outputs": [
    {
     "data": {
      "text/plain": [
       "array([[0., 0., 0.],\n",
       "       [0., 0., 0.]])"
      ]
     },
     "execution_count": 14,
     "metadata": {},
     "output_type": "execute_result"
    }
   ],
   "source": [
    "# 기존의 배열의 크기를 그대로 사용하여 배열 생성\n",
    "## zeros_like\n",
    "## ones_like\n",
    "b"
   ]
  },
  {
   "cell_type": "code",
   "execution_count": 15,
   "id": "0959c7b0",
   "metadata": {
    "ExecuteTime": {
     "end_time": "2023-09-22T03:25:04.107546Z",
     "start_time": "2023-09-22T03:25:04.100557Z"
    }
   },
   "outputs": [
    {
     "data": {
      "text/plain": [
       "array([[1., 1., 1.],\n",
       "       [1., 1., 1.]])"
      ]
     },
     "execution_count": 15,
     "metadata": {},
     "output_type": "execute_result"
    }
   ],
   "source": [
    "f = np.ones_like(b)\n",
    "f"
   ]
  },
  {
   "cell_type": "code",
   "execution_count": 16,
   "id": "0c9cb42f",
   "metadata": {
    "ExecuteTime": {
     "end_time": "2023-09-22T03:26:09.886006Z",
     "start_time": "2023-09-22T03:26:09.880032Z"
    }
   },
   "outputs": [
    {
     "data": {
      "text/plain": [
       "array([[1.46695114e-311, 2.47032823e-322, 0.00000000e+000],\n",
       "       [0.00000000e+000, 2.14321575e-312, 3.69776220e-062],\n",
       "       [5.27390942e-091, 2.74954875e+180, 8.40869129e+164],\n",
       "       [1.90352982e+185, 3.99910963e+252, 9.13597212e+169]])"
      ]
     },
     "execution_count": 16,
     "metadata": {},
     "output_type": "execute_result"
    }
   ],
   "source": [
    "g = np.empty((4, 3))\n",
    "g"
   ]
  },
  {
   "cell_type": "code",
   "execution_count": 17,
   "id": "4cd32223",
   "metadata": {
    "ExecuteTime": {
     "end_time": "2023-09-22T03:28:09.116284Z",
     "start_time": "2023-09-22T03:28:09.106399Z"
    }
   },
   "outputs": [
    {
     "data": {
      "text/plain": [
       "array([0, 1, 2, 3, 4, 5, 6, 7, 8, 9])"
      ]
     },
     "execution_count": 17,
     "metadata": {},
     "output_type": "execute_result"
    }
   ],
   "source": [
    "# range() : 순차리스트, 수열생성 함수\n",
    "# range(5) : 0, 1, 2, 3, 4\n",
    "# range(1, 10) : 1, 9\n",
    "# arange() : Numpy 버전의 range 명령어이다.\n",
    "np.arange(10) # 0 ~ n-1"
   ]
  },
  {
   "cell_type": "code",
   "execution_count": 18,
   "id": "6df4f24e",
   "metadata": {
    "ExecuteTime": {
     "end_time": "2023-09-22T03:28:36.107251Z",
     "start_time": "2023-09-22T03:28:36.098278Z"
    }
   },
   "outputs": [
    {
     "data": {
      "text/plain": [
       "array([ 3,  5,  7,  9, 11, 13, 15, 17, 19])"
      ]
     },
     "execution_count": 18,
     "metadata": {},
     "output_type": "execute_result"
    }
   ],
   "source": [
    "np.arange(3, 21, 2)"
   ]
  },
  {
   "cell_type": "code",
   "execution_count": 19,
   "id": "6a4b8da7",
   "metadata": {
    "ExecuteTime": {
     "end_time": "2023-09-22T03:29:43.608821Z",
     "start_time": "2023-09-22T03:29:43.597714Z"
    }
   },
   "outputs": [
    {
     "data": {
      "text/plain": [
       "array([  0.,  25.,  50.,  75., 100.])"
      ]
     },
     "execution_count": 19,
     "metadata": {},
     "output_type": "execute_result"
    }
   ],
   "source": [
    "np.linspace(0, 100, 5)"
   ]
  },
  {
   "cell_type": "code",
   "execution_count": 20,
   "id": "91b83a35",
   "metadata": {
    "ExecuteTime": {
     "end_time": "2023-09-22T03:30:11.956039Z",
     "start_time": "2023-09-22T03:30:11.941789Z"
    }
   },
   "outputs": [
    {
     "data": {
      "text/plain": [
       "array([ 1.25892541,  1.58489319,  1.99526231,  2.51188643,  3.16227766,\n",
       "        3.98107171,  5.01187234,  6.30957344,  7.94328235, 10.        ])"
      ]
     },
     "execution_count": 20,
     "metadata": {},
     "output_type": "execute_result"
    }
   ],
   "source": [
    "np.logspace(0.1, 1, 10)"
   ]
  },
  {
   "cell_type": "markdown",
   "id": "c88ce34f",
   "metadata": {},
   "source": [
    "## 전치행렬\n",
    "- 행과 열을 바꾸는 기능\n",
    "- T"
   ]
  },
  {
   "cell_type": "code",
   "execution_count": 21,
   "id": "438bae19",
   "metadata": {
    "ExecuteTime": {
     "end_time": "2023-09-22T03:31:38.961892Z",
     "start_time": "2023-09-22T03:31:38.951913Z"
    }
   },
   "outputs": [
    {
     "data": {
      "text/plain": [
       "array([[1, 2, 3],\n",
       "       [4, 5, 6]])"
      ]
     },
     "execution_count": 21,
     "metadata": {},
     "output_type": "execute_result"
    }
   ],
   "source": [
    "A = np.array([[1, 2, 3],[4, 5, 6]])\n",
    "A"
   ]
  },
  {
   "cell_type": "code",
   "execution_count": 22,
   "id": "0d83cc93",
   "metadata": {
    "ExecuteTime": {
     "end_time": "2023-09-22T03:31:53.051861Z",
     "start_time": "2023-09-22T03:31:53.042016Z"
    }
   },
   "outputs": [
    {
     "data": {
      "text/plain": [
       "array([[1, 4],\n",
       "       [2, 5],\n",
       "       [3, 6]])"
      ]
     },
     "execution_count": 22,
     "metadata": {},
     "output_type": "execute_result"
    }
   ],
   "source": [
    "A.T"
   ]
  },
  {
   "cell_type": "markdown",
   "id": "a5a747ff",
   "metadata": {},
   "source": [
    "## 배열의 크기 변형\n",
    "- 배열의 크기 속성 : shape, 배열명.속성\n",
    "- 배열의 크기 변경 : reshape"
   ]
  },
  {
   "cell_type": "code",
   "execution_count": 24,
   "id": "0675c6e1",
   "metadata": {
    "ExecuteTime": {
     "end_time": "2023-09-22T03:33:33.390498Z",
     "start_time": "2023-09-22T03:33:33.381464Z"
    }
   },
   "outputs": [
    {
     "data": {
      "text/plain": [
       "array([ 0,  1,  2,  3,  4,  5,  6,  7,  8,  9, 10, 11])"
      ]
     },
     "execution_count": 24,
     "metadata": {},
     "output_type": "execute_result"
    }
   ],
   "source": [
    "a = np.arange(12)\n",
    "a"
   ]
  },
  {
   "cell_type": "code",
   "execution_count": 25,
   "id": "66bb773a",
   "metadata": {
    "ExecuteTime": {
     "end_time": "2023-09-22T03:33:42.597458Z",
     "start_time": "2023-09-22T03:33:42.588565Z"
    }
   },
   "outputs": [
    {
     "data": {
      "text/plain": [
       "(12,)"
      ]
     },
     "execution_count": 25,
     "metadata": {},
     "output_type": "execute_result"
    }
   ],
   "source": [
    "a.shape"
   ]
  },
  {
   "cell_type": "code",
   "execution_count": 26,
   "id": "1a654cdd",
   "metadata": {
    "ExecuteTime": {
     "end_time": "2023-09-22T03:34:13.517687Z",
     "start_time": "2023-09-22T03:34:13.507553Z"
    }
   },
   "outputs": [
    {
     "data": {
      "text/plain": [
       "array([[ 0,  1,  2,  3],\n",
       "       [ 4,  5,  6,  7],\n",
       "       [ 8,  9, 10, 11]])"
      ]
     },
     "execution_count": 26,
     "metadata": {},
     "output_type": "execute_result"
    }
   ],
   "source": [
    "b = a.reshape(3, 4)\n",
    "b"
   ]
  },
  {
   "cell_type": "code",
   "execution_count": 27,
   "id": "7e550b1b",
   "metadata": {
    "ExecuteTime": {
     "end_time": "2023-09-22T03:35:20.288067Z",
     "start_time": "2023-09-22T03:35:20.275387Z"
    }
   },
   "outputs": [
    {
     "data": {
      "text/plain": [
       "array([[ 0,  1,  2,  3],\n",
       "       [ 4,  5,  6,  7],\n",
       "       [ 8,  9, 10, 11]])"
      ]
     },
     "execution_count": 27,
     "metadata": {},
     "output_type": "execute_result"
    }
   ],
   "source": [
    "a.reshape(3, -1)"
   ]
  },
  {
   "cell_type": "code",
   "execution_count": 28,
   "id": "3465137e",
   "metadata": {
    "ExecuteTime": {
     "end_time": "2023-09-22T03:36:02.246881Z",
     "start_time": "2023-09-22T03:36:02.240910Z"
    }
   },
   "outputs": [
    {
     "data": {
      "text/plain": [
       "array([[[ 0,  1,  2],\n",
       "        [ 3,  4,  5]],\n",
       "\n",
       "       [[ 6,  7,  8],\n",
       "        [ 9, 10, 11]]])"
      ]
     },
     "execution_count": 28,
     "metadata": {},
     "output_type": "execute_result"
    }
   ],
   "source": [
    "a.reshape(2, 2, -1)"
   ]
  },
  {
   "cell_type": "code",
   "execution_count": 29,
   "id": "d0f5bc8c",
   "metadata": {
    "ExecuteTime": {
     "end_time": "2023-09-22T03:36:28.682899Z",
     "start_time": "2023-09-22T03:36:28.671701Z"
    }
   },
   "outputs": [
    {
     "data": {
      "text/plain": [
       "array([[[ 0,  1],\n",
       "        [ 2,  3],\n",
       "        [ 4,  5]],\n",
       "\n",
       "       [[ 6,  7],\n",
       "        [ 8,  9],\n",
       "        [10, 11]]])"
      ]
     },
     "execution_count": 29,
     "metadata": {},
     "output_type": "execute_result"
    }
   ],
   "source": [
    "a.reshape(2, -1, 2)"
   ]
  },
  {
   "cell_type": "code",
   "execution_count": 30,
   "id": "93b3ff45",
   "metadata": {
    "ExecuteTime": {
     "end_time": "2023-09-22T03:37:34.107303Z",
     "start_time": "2023-09-22T03:37:34.098304Z"
    }
   },
   "outputs": [
    {
     "data": {
      "text/plain": [
       "array([ 0,  1,  2,  3,  4,  5,  6,  7,  8,  9, 10, 11])"
      ]
     },
     "execution_count": 30,
     "metadata": {},
     "output_type": "execute_result"
    }
   ],
   "source": [
    "# 다차원 배열을 1차원 배열로 생성하는 flatten, ravel 메서드\n",
    "a"
   ]
  },
  {
   "cell_type": "code",
   "execution_count": 31,
   "id": "ea3970e8",
   "metadata": {
    "ExecuteTime": {
     "end_time": "2023-09-22T03:37:56.441201Z",
     "start_time": "2023-09-22T03:37:56.430189Z"
    }
   },
   "outputs": [
    {
     "data": {
      "text/plain": [
       "array([[ 0,  1,  2,  3],\n",
       "       [ 4,  5,  6,  7],\n",
       "       [ 8,  9, 10, 11]])"
      ]
     },
     "execution_count": 31,
     "metadata": {},
     "output_type": "execute_result"
    }
   ],
   "source": [
    "a = a.reshape(3, 4)\n",
    "a"
   ]
  },
  {
   "cell_type": "code",
   "execution_count": 32,
   "id": "3411b026",
   "metadata": {
    "ExecuteTime": {
     "end_time": "2023-09-22T03:38:11.344307Z",
     "start_time": "2023-09-22T03:38:11.332695Z"
    }
   },
   "outputs": [
    {
     "data": {
      "text/plain": [
       "array([ 0,  1,  2,  3,  4,  5,  6,  7,  8,  9, 10, 11])"
      ]
     },
     "execution_count": 32,
     "metadata": {},
     "output_type": "execute_result"
    }
   ],
   "source": [
    "a.flatten()"
   ]
  },
  {
   "cell_type": "code",
   "execution_count": 33,
   "id": "57bf4543",
   "metadata": {
    "ExecuteTime": {
     "end_time": "2023-09-22T03:38:42.044972Z",
     "start_time": "2023-09-22T03:38:42.035970Z"
    }
   },
   "outputs": [
    {
     "data": {
      "text/plain": [
       "array([ 0,  1,  2,  3,  4,  5,  6,  7,  8,  9, 10, 11])"
      ]
     },
     "execution_count": 33,
     "metadata": {},
     "output_type": "execute_result"
    }
   ],
   "source": [
    "a.ravel()"
   ]
  },
  {
   "cell_type": "code",
   "execution_count": 34,
   "id": "46352697",
   "metadata": {
    "ExecuteTime": {
     "end_time": "2023-09-22T03:39:33.650463Z",
     "start_time": "2023-09-22T03:39:33.639595Z"
    }
   },
   "outputs": [
    {
     "data": {
      "text/plain": [
       "array([0, 1, 2, 3, 4])"
      ]
     },
     "execution_count": 34,
     "metadata": {},
     "output_type": "execute_result"
    }
   ],
   "source": [
    "x = np.arange(5)\n",
    "x"
   ]
  },
  {
   "cell_type": "code",
   "execution_count": 35,
   "id": "3ec8401c",
   "metadata": {
    "ExecuteTime": {
     "end_time": "2023-09-22T03:39:42.331902Z",
     "start_time": "2023-09-22T03:39:42.323936Z"
    }
   },
   "outputs": [
    {
     "data": {
      "text/plain": [
       "(5,)"
      ]
     },
     "execution_count": 35,
     "metadata": {},
     "output_type": "execute_result"
    }
   ],
   "source": [
    "x.shape"
   ]
  },
  {
   "cell_type": "code",
   "execution_count": 36,
   "id": "49f27ae8",
   "metadata": {
    "ExecuteTime": {
     "end_time": "2023-09-22T03:40:07.870240Z",
     "start_time": "2023-09-22T03:40:07.864275Z"
    }
   },
   "outputs": [
    {
     "data": {
      "text/plain": [
       "array([[0, 1, 2, 3, 4]])"
      ]
     },
     "execution_count": 36,
     "metadata": {},
     "output_type": "execute_result"
    }
   ],
   "source": [
    "x.reshape(1, 5)"
   ]
  },
  {
   "cell_type": "code",
   "execution_count": 37,
   "id": "43102293",
   "metadata": {
    "ExecuteTime": {
     "end_time": "2023-09-22T03:40:27.253848Z",
     "start_time": "2023-09-22T03:40:27.238018Z"
    }
   },
   "outputs": [
    {
     "data": {
      "text/plain": [
       "array([[0],\n",
       "       [1],\n",
       "       [2],\n",
       "       [3],\n",
       "       [4]])"
      ]
     },
     "execution_count": 37,
     "metadata": {},
     "output_type": "execute_result"
    }
   ],
   "source": [
    "x.reshape(5, 1)"
   ]
  },
  {
   "cell_type": "code",
   "execution_count": 38,
   "id": "6b216494",
   "metadata": {
    "ExecuteTime": {
     "end_time": "2023-09-22T03:41:32.792956Z",
     "start_time": "2023-09-22T03:41:32.779613Z"
    }
   },
   "outputs": [
    {
     "data": {
      "text/plain": [
       "array([0, 1, 2, 3, 4])"
      ]
     },
     "execution_count": 38,
     "metadata": {},
     "output_type": "execute_result"
    }
   ],
   "source": [
    "# 차원만 증가시키는 newaxis\n",
    "x"
   ]
  },
  {
   "cell_type": "code",
   "execution_count": 39,
   "id": "93775b2f",
   "metadata": {
    "ExecuteTime": {
     "end_time": "2023-09-22T03:42:05.867178Z",
     "start_time": "2023-09-22T03:42:05.855447Z"
    }
   },
   "outputs": [
    {
     "data": {
      "text/plain": [
       "(5,)"
      ]
     },
     "execution_count": 39,
     "metadata": {},
     "output_type": "execute_result"
    }
   ],
   "source": [
    "x.shape"
   ]
  },
  {
   "cell_type": "code",
   "execution_count": 40,
   "id": "620707c9",
   "metadata": {
    "ExecuteTime": {
     "end_time": "2023-09-22T03:42:14.312518Z",
     "start_time": "2023-09-22T03:42:14.304509Z"
    }
   },
   "outputs": [
    {
     "data": {
      "text/plain": [
       "array([[0],\n",
       "       [1],\n",
       "       [2],\n",
       "       [3],\n",
       "       [4]])"
      ]
     },
     "execution_count": 40,
     "metadata": {},
     "output_type": "execute_result"
    }
   ],
   "source": [
    "x[:, np.newaxis]"
   ]
  }
 ],
 "metadata": {
  "kernelspec": {
   "display_name": "Python 3 (ipykernel)",
   "language": "python",
   "name": "python3"
  },
  "language_info": {
   "codemirror_mode": {
    "name": "ipython",
    "version": 3
   },
   "file_extension": ".py",
   "mimetype": "text/x-python",
   "name": "python",
   "nbconvert_exporter": "python",
   "pygments_lexer": "ipython3",
   "version": "3.9.17"
  },
  "toc": {
   "base_numbering": 1,
   "nav_menu": {},
   "number_sections": true,
   "sideBar": true,
   "skip_h1_title": false,
   "title_cell": "Table of Contents",
   "title_sidebar": "Contents",
   "toc_cell": false,
   "toc_position": {
    "height": "calc(100% - 180px)",
    "left": "10px",
    "top": "150px",
    "width": "219.429px"
   },
   "toc_section_display": true,
   "toc_window_display": true
  },
  "varInspector": {
   "cols": {
    "lenName": 16,
    "lenType": 16,
    "lenVar": 40
   },
   "kernels_config": {
    "python": {
     "delete_cmd_postfix": "",
     "delete_cmd_prefix": "del ",
     "library": "var_list.py",
     "varRefreshCmd": "print(var_dic_list())"
    },
    "r": {
     "delete_cmd_postfix": ") ",
     "delete_cmd_prefix": "rm(",
     "library": "var_list.r",
     "varRefreshCmd": "cat(var_dic_list()) "
    }
   },
   "types_to_exclude": [
    "module",
    "function",
    "builtin_function_or_method",
    "instance",
    "_Feature"
   ],
   "window_display": false
  }
 },
 "nbformat": 4,
 "nbformat_minor": 5
}
