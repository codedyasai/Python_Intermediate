{
  "nbformat": 4,
  "nbformat_minor": 0,
  "metadata": {
    "colab": {
      "provenance": [],
      "gpuType": "T4",
      "authorship_tag": "ABX9TyNTyLwvN7knCmWGWWD7aOls",
      "include_colab_link": true
    },
    "kernelspec": {
      "name": "python3",
      "display_name": "Python 3"
    },
    "language_info": {
      "name": "python"
    },
    "accelerator": "GPU"
  },
  "cells": [
    {
      "cell_type": "markdown",
      "metadata": {
        "id": "view-in-github",
        "colab_type": "text"
      },
      "source": [
        "<a href=\"https://colab.research.google.com/github/codedyasai/Python_Intermediate/blob/main/01_%EB%8D%B0%EC%9D%B4%ED%84%B0%EB%B6%84%EC%84%9D_%EC%8B%9C%EC%9E%91.ipynb\" target=\"_parent\"><img src=\"https://colab.research.google.com/assets/colab-badge.svg\" alt=\"Open In Colab\"/></a>"
      ]
    },
    {
      "cell_type": "markdown",
      "source": [
        "# 1. *시작하기*"
      ],
      "metadata": {
        "id": "nXOCNFtpgt0G"
      }
    },
    {
      "cell_type": "code",
      "source": [
        "print('Hello World')"
      ],
      "metadata": {
        "colab": {
          "base_uri": "https://localhost:8080/"
        },
        "id": "4Ciou9EWgxpd",
        "outputId": "815fd825-fdd0-40f4-cbf0-baf09d411aed"
      },
      "execution_count": null,
      "outputs": [
        {
          "output_type": "stream",
          "name": "stdout",
          "text": [
            "Hello World\n"
          ]
        }
      ]
    },
    {
      "cell_type": "markdown",
      "source": [
        "# 2. Numpy(넘파이)\n",
        "  - Numerical Python의 줄임말\n",
        "  - Numpy는 벡터 및 행렬 연산에 편리한 기능을 제공\n",
        "  - Pandas와 더불어 데이터 분석에 대표적인 라이브러리\n",
        "  - 넘파이 배열이라고 부름, 대표적인 자료형 Ndarray\n",
        "  - python 자료구조: 변수, list, tuple, set, dict\n",
        "  - R 자료구조: matrix(2차원 배열), array(n차원 배열), dataframe\n",
        "  \n"
      ],
      "metadata": {
        "id": "4c_cLrspitUo"
      }
    },
    {
      "cell_type": "code",
      "source": [
        "# 모듈 연결\n",
        "import numpy as np"
      ],
      "metadata": {
        "id": "Vmkb04d5hZew"
      },
      "execution_count": null,
      "outputs": []
    },
    {
      "cell_type": "markdown",
      "source": [
        "- 파이썬의 List 자료형을 확장한 개념으로 처리속도가 빠르다.\n",
        "- 배열: 적은 메모리로 많은 데이터를 빠르게 처리한다.\n",
        "- 모든 원소가 같은 자료형이어야 한다.\n",
        "- 다차원 배열 자료구조 ndarray 클래스 제공"
      ],
      "metadata": {
        "id": "EuW9kqZkk6fX"
      }
    },
    {
      "cell_type": "code",
      "source": [
        "# 리스트 객체 생성\n",
        "a = [1,2,3]\n",
        "b = [4,5,6]\n",
        "\n",
        "print('a: ', a)\n",
        "print('b: ', b)"
      ],
      "metadata": {
        "colab": {
          "base_uri": "https://localhost:8080/"
        },
        "id": "BdbB1w2Glhvp",
        "outputId": "24f72fcd-b5e5-4487-c54d-e19bfd70a617"
      },
      "execution_count": null,
      "outputs": [
        {
          "output_type": "stream",
          "name": "stdout",
          "text": [
            "a:  [1, 2, 3]\n",
            "b:  [4, 5, 6]\n"
          ]
        }
      ]
    },
    {
      "cell_type": "code",
      "source": [
        "c = [1,2,3, 'a', 'b', 'c', [5,6,7]]\n",
        "print(c)"
      ],
      "metadata": {
        "colab": {
          "base_uri": "https://localhost:8080/"
        },
        "id": "muIkfQFDlxHy",
        "outputId": "2b69dddc-0abe-4574-9862-5d0c3d20db43"
      },
      "execution_count": null,
      "outputs": [
        {
          "output_type": "stream",
          "name": "stdout",
          "text": [
            "[1, 2, 3, 'a', 'b', 'c', [5, 6, 7]]\n"
          ]
        }
      ]
    },
    {
      "cell_type": "code",
      "source": [
        "# 리스트 연산 : '+', '*' 밖에 되지가 않는다. 위에 보이는 것처럼 안에 넣는 자료형이 너무 자유롭기 때문\n",
        "print(a+b)"
      ],
      "metadata": {
        "colab": {
          "base_uri": "https://localhost:8080/"
        },
        "id": "87A9NXu2l7B5",
        "outputId": "d63f61c9-b963-482d-85ef-c8353e23d30c"
      },
      "execution_count": null,
      "outputs": [
        {
          "output_type": "stream",
          "name": "stdout",
          "text": [
            "[1, 2, 3, 4, 5, 6]\n"
          ]
        }
      ]
    },
    {
      "cell_type": "code",
      "source": [
        "print(a*3)"
      ],
      "metadata": {
        "colab": {
          "base_uri": "https://localhost:8080/"
        },
        "id": "GHDx5lU7mUfv",
        "outputId": "ccf42392-6e5f-46a7-be0b-af5367295480"
      },
      "execution_count": null,
      "outputs": [
        {
          "output_type": "stream",
          "name": "stdout",
          "text": [
            "[1, 2, 3, 1, 2, 3, 1, 2, 3]\n"
          ]
        }
      ]
    },
    {
      "cell_type": "markdown",
      "source": [
        "# 3. 1차원 배열 만들기\n",
        "  - python의 List를 이용한 ndarray 객체 생성\n",
        "  - np.array() 함수를 이용한 배열 생성"
      ],
      "metadata": {
        "id": "7286_DOXmolP"
      }
    },
    {
      "cell_type": "code",
      "source": [
        "data1 = [1,2,3,4,5]\n",
        "print(data1)\n",
        "print(type(data1))"
      ],
      "metadata": {
        "colab": {
          "base_uri": "https://localhost:8080/"
        },
        "id": "seaJJqhbmYB3",
        "outputId": "6940bcb4-55a0-4fb9-9172-bc8b3d95200f"
      },
      "execution_count": null,
      "outputs": [
        {
          "output_type": "stream",
          "name": "stdout",
          "text": [
            "[1, 2, 3, 4, 5]\n",
            "<class 'list'>\n"
          ]
        }
      ]
    },
    {
      "cell_type": "code",
      "source": [
        "arr1 = np.array(data1)\n",
        "print(arr1)\n",
        "print(type(arr1))"
      ],
      "metadata": {
        "colab": {
          "base_uri": "https://localhost:8080/"
        },
        "id": "Cu4KwGFWnNaw",
        "outputId": "bd3c3629-7eba-4830-b828-e321427141be"
      },
      "execution_count": null,
      "outputs": [
        {
          "output_type": "stream",
          "name": "stdout",
          "text": [
            "[1 2 3 4 5]\n",
            "<class 'numpy.ndarray'>\n"
          ]
        }
      ]
    },
    {
      "cell_type": "markdown",
      "source": [
        "## 3-1. 벡터화 연산(Vectorized operation)\n",
        "- 스칼라: 1개의 값을 가진 자료형\n",
        "- 벡터: 1개 이상의 값을 가진 자료형\n",
        "- 자료구조의 요소단위로 계산을 수행하는 것을 벡터화연산이라고 부른다."
      ],
      "metadata": {
        "id": "HIOaRKaAnd7B"
      }
    },
    {
      "cell_type": "code",
      "source": [
        "print(a+b)"
      ],
      "metadata": {
        "colab": {
          "base_uri": "https://localhost:8080/"
        },
        "id": "YddPsgacoTGG",
        "outputId": "5e73f112-461c-4bea-d158-d2a55692cd92"
      },
      "execution_count": null,
      "outputs": [
        {
          "output_type": "stream",
          "name": "stdout",
          "text": [
            "[1, 2, 3, 4, 5, 6]\n"
          ]
        }
      ]
    },
    {
      "cell_type": "code",
      "source": [
        "res = []\n",
        "for i in range(3):\n",
        "    temp = a[i] + b[i]\n",
        "    res.append(temp)\n",
        "\n",
        "print(res)"
      ],
      "metadata": {
        "colab": {
          "base_uri": "https://localhost:8080/"
        },
        "id": "fpxP9ZJWoaMC",
        "outputId": "f1d94379-341c-4f4d-dde8-6a1d301c0854"
      },
      "execution_count": null,
      "outputs": [
        {
          "output_type": "stream",
          "name": "stdout",
          "text": [
            "[5, 7, 9]\n"
          ]
        }
      ]
    },
    {
      "cell_type": "code",
      "source": [
        "arr2 = np.array(a)\n",
        "arr3 = np.array(b)\n",
        "print(arr2 + arr3)"
      ],
      "metadata": {
        "colab": {
          "base_uri": "https://localhost:8080/"
        },
        "id": "mb2UyJ67orNS",
        "outputId": "c2cd901d-b267-47cb-c8ea-4fc8d80c21d0"
      },
      "execution_count": null,
      "outputs": [
        {
          "output_type": "stream",
          "name": "stdout",
          "text": [
            "[5 7 9]\n"
          ]
        }
      ]
    },
    {
      "cell_type": "code",
      "source": [
        "x = [1,2,3,4,5]\n",
        "print(x*2)"
      ],
      "metadata": {
        "colab": {
          "base_uri": "https://localhost:8080/"
        },
        "id": "n6Y6g5x1pRW7",
        "outputId": "b155a048-23de-4ee5-fb88-b62529ae5d1e"
      },
      "execution_count": null,
      "outputs": [
        {
          "output_type": "stream",
          "name": "stdout",
          "text": [
            "[1, 2, 3, 4, 5, 1, 2, 3, 4, 5]\n"
          ]
        }
      ]
    },
    {
      "cell_type": "code",
      "source": [
        "res = [x[i]*2 for i in range(5)]\n",
        "print(res)"
      ],
      "metadata": {
        "colab": {
          "base_uri": "https://localhost:8080/"
        },
        "id": "ZotKCJCvpbwc",
        "outputId": "d103cd5e-9ee6-4ea8-a054-c9de88e92159"
      },
      "execution_count": null,
      "outputs": [
        {
          "output_type": "stream",
          "name": "stdout",
          "text": [
            "[2, 4, 6, 8, 10]\n"
          ]
        }
      ]
    },
    {
      "cell_type": "code",
      "source": [
        "data = np.array(x)\n",
        "print(data*2)"
      ],
      "metadata": {
        "colab": {
          "base_uri": "https://localhost:8080/"
        },
        "id": "u72B1npQpr0E",
        "outputId": "6fa82168-4717-426f-cb84-8d60654fa4cd"
      },
      "execution_count": null,
      "outputs": [
        {
          "output_type": "stream",
          "name": "stdout",
          "text": [
            "[ 2  4  6  8 10]\n"
          ]
        }
      ]
    },
    {
      "cell_type": "code",
      "source": [
        "# type(): 자료형\n",
        "print(type(data))"
      ],
      "metadata": {
        "colab": {
          "base_uri": "https://localhost:8080/"
        },
        "id": "rZ8tErtcpwkI",
        "outputId": "b1ef109c-39db-4f8d-bb34-ffe045765849"
      },
      "execution_count": null,
      "outputs": [
        {
          "output_type": "stream",
          "name": "stdout",
          "text": [
            "<class 'numpy.ndarray'>\n"
          ]
        }
      ]
    },
    {
      "cell_type": "code",
      "source": [
        "# dtype = data type, 요소의 자료형\n",
        "print(data.dtype)"
      ],
      "metadata": {
        "colab": {
          "base_uri": "https://localhost:8080/"
        },
        "id": "tBBukRsJqbKS",
        "outputId": "cc4b41f7-5cfa-425e-ec46-950cf3cee35c"
      },
      "execution_count": null,
      "outputs": [
        {
          "output_type": "stream",
          "name": "stdout",
          "text": [
            "int64\n"
          ]
        }
      ]
    },
    {
      "cell_type": "markdown",
      "source": [
        "### numpy자료형\n",
        "- 부호가 있는 정수 int(8, 16, 32, 64)\n",
        "- 부호가 없는 정수 unit(8, 16, 32, 64)\n",
        "- 실수 float(16, 32, 64, 128)\n",
        "- 복소수 complex(64, 128, 256)\n",
        "- 논리형 bool(True, False)\n",
        "- 문자형 string"
      ],
      "metadata": {
        "id": "1dhpZCDFrXYG"
      }
    },
    {
      "cell_type": "code",
      "source": [
        "# shape : 배열의 형태(크기), 1차원, 2차원, 3차원...\n",
        "print(data.shape)"
      ],
      "metadata": {
        "colab": {
          "base_uri": "https://localhost:8080/"
        },
        "id": "Nrwt5jjbqfjp",
        "outputId": "4ee0c990-99e7-42e7-dd4e-e7eef7f4dfc3"
      },
      "execution_count": null,
      "outputs": [
        {
          "output_type": "stream",
          "name": "stdout",
          "text": [
            "(5,)\n"
          ]
        }
      ]
    },
    {
      "cell_type": "markdown",
      "source": [
        "## 3-2. 2차원 배열 만들기\n",
        "- 행과 열을 가진 배열\n",
        "- 2차원 배열 행렬(matrix): row, column"
      ],
      "metadata": {
        "id": "Svb64aRrr21n"
      }
    },
    {
      "cell_type": "code",
      "source": [
        "y= [[1,2,3], [4,5,6]]\n",
        "print(y)"
      ],
      "metadata": {
        "colab": {
          "base_uri": "https://localhost:8080/"
        },
        "id": "72lw2B2rq9fD",
        "outputId": "7c9ec0ef-aa4a-4ae1-e026-142538435e0e"
      },
      "execution_count": null,
      "outputs": [
        {
          "output_type": "stream",
          "name": "stdout",
          "text": [
            "[[1, 2, 3], [4, 5, 6]]\n"
          ]
        }
      ]
    },
    {
      "cell_type": "code",
      "source": [
        "arr4 = np.array(y)\n",
        "print(arr4)"
      ],
      "metadata": {
        "colab": {
          "base_uri": "https://localhost:8080/"
        },
        "id": "K9i8V_GbsTY7",
        "outputId": "24db609e-048e-4755-b584-c997084922ee"
      },
      "execution_count": null,
      "outputs": [
        {
          "output_type": "stream",
          "name": "stdout",
          "text": [
            "[[1 2 3]\n",
            " [4 5 6]]\n"
          ]
        }
      ]
    },
    {
      "cell_type": "code",
      "source": [
        "# 행의 갯수\n",
        "len(arr4)"
      ],
      "metadata": {
        "colab": {
          "base_uri": "https://localhost:8080/"
        },
        "id": "IiKGg_ggsYYi",
        "outputId": "53d91e05-11b1-4315-d24e-9c273d4d586f"
      },
      "execution_count": null,
      "outputs": [
        {
          "output_type": "execute_result",
          "data": {
            "text/plain": [
              "2"
            ]
          },
          "metadata": {},
          "execution_count": 21
        }
      ]
    },
    {
      "cell_type": "code",
      "source": [
        "# 열의 갯수\n",
        "len(arr4[0])"
      ],
      "metadata": {
        "colab": {
          "base_uri": "https://localhost:8080/"
        },
        "id": "s4ceQPx0shZM",
        "outputId": "023e57f6-b648-442f-f67c-0aa0eed10bfd"
      },
      "execution_count": null,
      "outputs": [
        {
          "output_type": "execute_result",
          "data": {
            "text/plain": [
              "3"
            ]
          },
          "metadata": {},
          "execution_count": 22
        }
      ]
    },
    {
      "cell_type": "code",
      "source": [
        "data2 = np.array([[1,2,3],[4,5,6]])\n",
        "data2"
      ],
      "metadata": {
        "colab": {
          "base_uri": "https://localhost:8080/"
        },
        "id": "nCzNlctNsskK",
        "outputId": "cf9c8e1b-e898-4e6a-85bf-c4ec0918942c"
      },
      "execution_count": null,
      "outputs": [
        {
          "output_type": "execute_result",
          "data": {
            "text/plain": [
              "array([[1, 2, 3],\n",
              "       [4, 5, 6]])"
            ]
          },
          "metadata": {},
          "execution_count": 24
        }
      ]
    },
    {
      "cell_type": "markdown",
      "source": [
        "## 3-3. 3차원 배열 만들기"
      ],
      "metadata": {
        "id": "deQ_iUiztF-W"
      }
    },
    {
      "cell_type": "code",
      "source": [
        "d = np.array([[[1,2,3,4], [5,6,7,8], [9,10,11,12]], [[11,12,13,14],[15,16,17,18], [19,20,21,22]]])\n",
        "d"
      ],
      "metadata": {
        "colab": {
          "base_uri": "https://localhost:8080/"
        },
        "id": "uXjM21b4s-L3",
        "outputId": "a25fb610-de36-4dae-a270-e8fe2fd485d7"
      },
      "execution_count": null,
      "outputs": [
        {
          "output_type": "execute_result",
          "data": {
            "text/plain": [
              "array([[[ 1,  2,  3,  4],\n",
              "        [ 5,  6,  7,  8],\n",
              "        [ 9, 10, 11, 12]],\n",
              "\n",
              "       [[11, 12, 13, 14],\n",
              "        [15, 16, 17, 18],\n",
              "        [19, 20, 21, 22]]])"
            ]
          },
          "metadata": {},
          "execution_count": 30
        }
      ]
    },
    {
      "cell_type": "markdown",
      "source": [
        "## 3-4 배열의 차원과 크기\n",
        "- ndim 속성: 배열의 차원\n",
        "- shape 속성: 배열의 크기"
      ],
      "metadata": {
        "id": "G3WCw-5TuMfX"
      }
    },
    {
      "cell_type": "code",
      "source": [
        "a = np.array([1,2,3])\n",
        "print(a.ndim)\n",
        "print(a.shape)"
      ],
      "metadata": {
        "colab": {
          "base_uri": "https://localhost:8080/"
        },
        "id": "6pHaXeSWt5rT",
        "outputId": "6cb2ad77-a305-4858-8504-4597b109acc8"
      },
      "execution_count": null,
      "outputs": [
        {
          "output_type": "stream",
          "name": "stdout",
          "text": [
            "1\n",
            "(3,)\n"
          ]
        }
      ]
    },
    {
      "cell_type": "code",
      "source": [
        "b = np.array([[1,2,3],[4,5,6]])\n",
        "print(b.ndim)\n",
        "print(b.shape)\n"
      ],
      "metadata": {
        "colab": {
          "base_uri": "https://localhost:8080/"
        },
        "id": "mKWInJh-ubiD",
        "outputId": "4bae3663-9f4a-43c0-e685-ba84b484a36b"
      },
      "execution_count": null,
      "outputs": [
        {
          "output_type": "stream",
          "name": "stdout",
          "text": [
            "2\n",
            "(2, 3)\n"
          ]
        }
      ]
    },
    {
      "cell_type": "code",
      "source": [
        "print(d.ndim)\n",
        "print(d.shape)"
      ],
      "metadata": {
        "colab": {
          "base_uri": "https://localhost:8080/"
        },
        "id": "GxGuMnuFuxdb",
        "outputId": "2a05158a-074b-4958-93b0-645d0afc1d10"
      },
      "execution_count": null,
      "outputs": [
        {
          "output_type": "stream",
          "name": "stdout",
          "text": [
            "3\n",
            "(2, 3, 4)\n"
          ]
        }
      ]
    },
    {
      "cell_type": "markdown",
      "source": [
        "# 4. 배열의 인덱싱(Indexing)\n",
        "- 리스트의 인덱싱과 동일하다"
      ],
      "metadata": {
        "id": "H3ZNcysMu8Yw"
      }
    },
    {
      "cell_type": "code",
      "source": [
        "a = np.array([0,1,2,3,4])\n",
        "print(a[2])\n",
        "print(a[-1])"
      ],
      "metadata": {
        "colab": {
          "base_uri": "https://localhost:8080/"
        },
        "id": "bGYfBylSu2gU",
        "outputId": "e6c9052e-5094-4057-fde5-79c047d61078"
      },
      "execution_count": null,
      "outputs": [
        {
          "output_type": "stream",
          "name": "stdout",
          "text": [
            "2\n",
            "4\n"
          ]
        }
      ]
    },
    {
      "cell_type": "code",
      "source": [
        "b = np.array([[0,1,2], [3,4,5]])\n",
        "b"
      ],
      "metadata": {
        "colab": {
          "base_uri": "https://localhost:8080/"
        },
        "id": "XaCZnJRzvQGb",
        "outputId": "089ae817-36de-4e31-d136-22c3207e1cd8"
      },
      "execution_count": null,
      "outputs": [
        {
          "output_type": "execute_result",
          "data": {
            "text/plain": [
              "array([[0, 1, 2],\n",
              "       [3, 4, 5]])"
            ]
          },
          "metadata": {},
          "execution_count": 33
        }
      ]
    },
    {
      "cell_type": "code",
      "source": [
        "print(b[0,0])\n",
        "print(b[0,1])\n",
        "print(b[-1,-1])"
      ],
      "metadata": {
        "colab": {
          "base_uri": "https://localhost:8080/"
        },
        "id": "BN0gJd42vh3f",
        "outputId": "b8c80d80-b734-4db9-d2f5-9ff14a75b473"
      },
      "execution_count": null,
      "outputs": [
        {
          "output_type": "stream",
          "name": "stdout",
          "text": [
            "0\n",
            "1\n",
            "5\n"
          ]
        }
      ]
    },
    {
      "cell_type": "markdown",
      "source": [
        "## 5. 배열 슬라이싱(slicing): [행 시작:행 마지막], [: , :]\n",
        "- 파이썬의 슬라이싱과 동일하다\n"
      ],
      "metadata": {
        "id": "JY3M78Jdvt1I"
      }
    },
    {
      "cell_type": "code",
      "source": [
        "c = np.array([[0,1,2,3],[4,5,6,7]])\n",
        "c"
      ],
      "metadata": {
        "colab": {
          "base_uri": "https://localhost:8080/"
        },
        "id": "5xnJOeq5vq25",
        "outputId": "1f40671d-9b21-43ac-92ea-f2cb024cb05e"
      },
      "execution_count": null,
      "outputs": [
        {
          "output_type": "execute_result",
          "data": {
            "text/plain": [
              "array([[0, 1, 2, 3],\n",
              "       [4, 5, 6, 7]])"
            ]
          },
          "metadata": {},
          "execution_count": 35
        }
      ]
    },
    {
      "cell_type": "code",
      "source": [
        "# 첫번째 행 전체\n",
        "c[0, : ]"
      ],
      "metadata": {
        "colab": {
          "base_uri": "https://localhost:8080/"
        },
        "id": "YOLNmaHnwJXz",
        "outputId": "ca08ac68-310d-415b-d8d3-1c6d6b1a7426"
      },
      "execution_count": null,
      "outputs": [
        {
          "output_type": "execute_result",
          "data": {
            "text/plain": [
              "array([0, 1, 2, 3])"
            ]
          },
          "metadata": {},
          "execution_count": 36
        }
      ]
    },
    {
      "cell_type": "code",
      "source": [
        "# 두번째 열 전체\n",
        "c[:, 1]"
      ],
      "metadata": {
        "colab": {
          "base_uri": "https://localhost:8080/"
        },
        "id": "VdurmG6UwaT4",
        "outputId": "efaf9801-ee0e-4575-c3a7-c967085fc611"
      },
      "execution_count": null,
      "outputs": [
        {
          "output_type": "execute_result",
          "data": {
            "text/plain": [
              "array([1, 5])"
            ]
          },
          "metadata": {},
          "execution_count": 37
        }
      ]
    },
    {
      "cell_type": "code",
      "source": [
        "# 두번째 행의 두번열부터 마지막열까지\n",
        "c[1, 1:]"
      ],
      "metadata": {
        "colab": {
          "base_uri": "https://localhost:8080/"
        },
        "id": "W7S1PSDxwd9I",
        "outputId": "ca4d7ad8-3d4d-4032-955d-c041665223c7"
      },
      "execution_count": null,
      "outputs": [
        {
          "output_type": "execute_result",
          "data": {
            "text/plain": [
              "array([5, 6, 7])"
            ]
          },
          "metadata": {},
          "execution_count": 38
        }
      ]
    },
    {
      "cell_type": "code",
      "source": [
        "c[:2, :2]"
      ],
      "metadata": {
        "colab": {
          "base_uri": "https://localhost:8080/"
        },
        "id": "G5TwW4nJwzLr",
        "outputId": "9b15c7fd-54b7-48d7-df59-0f5537266087"
      },
      "execution_count": null,
      "outputs": [
        {
          "output_type": "execute_result",
          "data": {
            "text/plain": [
              "array([[0, 1],\n",
              "       [4, 5]])"
            ]
          },
          "metadata": {},
          "execution_count": 39
        }
      ]
    },
    {
      "cell_type": "code",
      "source": [],
      "metadata": {
        "id": "DPFrwMJLw1T4"
      },
      "execution_count": null,
      "outputs": []
    }
  ]
}