{
  "nbformat": 4,
  "nbformat_minor": 0,
  "metadata": {
    "colab": {
      "provenance": [],
      "authorship_tag": "ABX9TyPe838rtuR+063h+wYkg5P9",
      "include_colab_link": true
    },
    "kernelspec": {
      "name": "python3",
      "display_name": "Python 3"
    },
    "language_info": {
      "name": "python"
    }
  },
  "cells": [
    {
      "cell_type": "markdown",
      "metadata": {
        "id": "view-in-github",
        "colab_type": "text"
      },
      "source": [
        "<a href=\"https://colab.research.google.com/github/codedyasai/Python_Intermediate/blob/main/04_%EB%8D%B0%EC%9D%B4%ED%84%B0%EB%B6%84%EC%84%9D_%EB%84%98%ED%8C%8C%EC%9D%B4(Numpy).ipynb\" target=\"_parent\"><img src=\"https://colab.research.google.com/assets/colab-badge.svg\" alt=\"Open In Colab\"/></a>"
      ]
    },
    {
      "cell_type": "markdown",
      "source": [
        "# Numpy: Numerical Python의 줄임말\n",
        "- 벡터 및 행렬 연산에 특화된 라이브러리\n",
        "- array 단위로 데이터를 관리함\n",
        "- 행렬(matrix)와 비슷함\n",
        "- 리스트(list), 튜플(tuple), 사전(dictionary)에서 변환 가능\n",
        "- pandas와 함께 데이터분석에 주로 사용됨"
      ],
      "metadata": {
        "id": "SIdUY7G4E536"
      }
    },
    {
      "cell_type": "markdown",
      "source": [
        "# 1. 실습예제"
      ],
      "metadata": {
        "id": "zsA_tV6nFP0S"
      }
    },
    {
      "cell_type": "markdown",
      "source": [
        "## 2.1 numpy 모듈 불러오기"
      ],
      "metadata": {
        "id": "VDEMW4YkFSc9"
      }
    },
    {
      "cell_type": "code",
      "source": [
        "import numpy as np"
      ],
      "metadata": {
        "id": "NEQyUCQmFXaH"
      },
      "execution_count": null,
      "outputs": []
    },
    {
      "cell_type": "markdown",
      "source": [
        "## 2.1 Array 정의 및 사용하기\n",
        "- 넘파이 배열이라는 표현으로 주로 사용한다.\n",
        "- 자료구조 : ndarray 객체(Ndarray)\n"
      ],
      "metadata": {
        "id": "PfZpYtWAFZor"
      }
    },
    {
      "cell_type": "code",
      "source": [
        "# 리스트\n",
        "\n",
        "data1 = [1,2,3,4,5]\n",
        "\n",
        "# 리스트를 1차원 numpy배열로 변환\n",
        "arr1 = np.array(data1)\n",
        "print(arr1)\n",
        "# type 객체의 자료형을 확인하는 함수\n",
        "print(type(data1))\n",
        "print(type(arr1))"
      ],
      "metadata": {
        "colab": {
          "base_uri": "https://localhost:8080/"
        },
        "id": "QnH_IGd2GRD0",
        "outputId": "1bc5d107-7389-4b87-8223-cd4201da0569"
      },
      "execution_count": null,
      "outputs": [
        {
          "output_type": "stream",
          "name": "stdout",
          "text": [
            "[1 2 3 4 5]\n",
            "<class 'list'>\n",
            "<class 'numpy.ndarray'>\n"
          ]
        }
      ]
    },
    {
      "cell_type": "code",
      "source": [
        "# 넘파이 배열의 형태(차원)\n",
        "arr1.shape"
      ],
      "metadata": {
        "colab": {
          "base_uri": "https://localhost:8080/"
        },
        "id": "839QQUcbG1GX",
        "outputId": "1e9146ae-095d-4b12-e53f-cd1016a1b6b5"
      },
      "execution_count": null,
      "outputs": [
        {
          "output_type": "execute_result",
          "data": {
            "text/plain": [
              "(5,)"
            ]
          },
          "metadata": {},
          "execution_count": 3
        }
      ]
    },
    {
      "cell_type": "code",
      "source": [
        "# 2차원 리스트\n",
        "data2 = [[1,2,3],[4,5,6]]\n",
        "\n",
        "#리스트를 넘파이 2차원 배열로 생성\n",
        "arr2 = np.array(data2)\n",
        "print(data2)\n",
        "print(arr2)\n",
        "print(arr2.shape)"
      ],
      "metadata": {
        "colab": {
          "base_uri": "https://localhost:8080/"
        },
        "id": "xwODE6mfG9dB",
        "outputId": "8c263a7c-289b-42f9-c459-353f4e6bac03"
      },
      "execution_count": null,
      "outputs": [
        {
          "output_type": "stream",
          "name": "stdout",
          "text": [
            "[[1, 2, 3], [4, 5, 6]]\n",
            "[[1 2 3]\n",
            " [4 5 6]]\n",
            "(2, 3)\n"
          ]
        }
      ]
    },
    {
      "cell_type": "code",
      "source": [
        "arr1 = np.array([[1,2,3],[4,5,6]])\n",
        "arr2 = np.array([[7,8,9], [10,11,12]])\n",
        "\n",
        "# 벡터화연산: 배열의 구성요소의 같은 위치끼리 연산을 수행\n",
        "\n",
        "print(arr1 + arr2)\n",
        "print(arr1 - arr2)\n",
        "print(arr1 * arr2)\n",
        "print(arr1 / arr2)\n"
      ],
      "metadata": {
        "colab": {
          "base_uri": "https://localhost:8080/"
        },
        "id": "dMX94HIAHDeR",
        "outputId": "fb9fd098-a6b8-4321-c0f1-9dba46caf2e3"
      },
      "execution_count": null,
      "outputs": [
        {
          "output_type": "stream",
          "name": "stdout",
          "text": [
            "[[ 8 10 12]\n",
            " [14 16 18]]\n",
            "[[-6 -6 -6]\n",
            " [-6 -6 -6]]\n",
            "[[ 7 16 27]\n",
            " [40 55 72]]\n",
            "[[0.14285714 0.25       0.33333333]\n",
            " [0.4        0.45454545 0.5       ]]\n"
          ]
        }
      ]
    },
    {
      "cell_type": "code",
      "source": [
        " arr1 ** 2 # 거듭제곱"
      ],
      "metadata": {
        "colab": {
          "base_uri": "https://localhost:8080/"
        },
        "id": "mXCEaso1Htwp",
        "outputId": "dc37aa3b-2fdb-4909-b755-c1dfc09c1607"
      },
      "execution_count": null,
      "outputs": [
        {
          "output_type": "execute_result",
          "data": {
            "text/plain": [
              "array([[ 1,  4,  9],\n",
              "       [16, 25, 36]])"
            ]
          },
          "metadata": {},
          "execution_count": 11
        }
      ]
    },
    {
      "cell_type": "code",
      "source": [
        "arr1"
      ],
      "metadata": {
        "colab": {
          "base_uri": "https://localhost:8080/"
        },
        "id": "XB623pMQISAE",
        "outputId": "0c8ef66c-87e0-4a80-e1ea-a4f3ead95c93"
      },
      "execution_count": null,
      "outputs": [
        {
          "output_type": "execute_result",
          "data": {
            "text/plain": [
              "array([[1, 2, 3],\n",
              "       [4, 5, 6]])"
            ]
          },
          "metadata": {},
          "execution_count": 14
        }
      ]
    },
    {
      "cell_type": "code",
      "source": [
        "arr1.dtype"
      ],
      "metadata": {
        "colab": {
          "base_uri": "https://localhost:8080/"
        },
        "id": "vAbzAS-TIT_H",
        "outputId": "70ecdd92-c452-4323-fc9c-ca2cb092b5a9"
      },
      "execution_count": null,
      "outputs": [
        {
          "output_type": "execute_result",
          "data": {
            "text/plain": [
              "dtype('int64')"
            ]
          },
          "metadata": {},
          "execution_count": 15
        }
      ]
    },
    {
      "cell_type": "markdown",
      "source": [
        "**numpy 자료형**\n",
        "- 부호가 있는 정수 int(8, 16, 32, 64)\n",
        "- 부호가 없는 정수 unit(8, 16, 32, 64)\n",
        "- 실수 float(16, 32, 64, 128)\n",
        "- 복소수 complex(64, 128, 256)\n",
        "- 불리언 bool(True, False)\n",
        "- 문자열 string\n",
        "- 파이썬 오브젝트(객체) object\n",
        "- 유니코드 unicode_"
      ],
      "metadata": {
        "id": "AUx72WuZIVMV"
      }
    },
    {
      "cell_type": "code",
      "source": [
        "names = np.array(['홍길동', '장보고', '이순신', '김유신', '유관순'])\n",
        "print(type(names))\n",
        "print(names)\n",
        "print(names[0])\n",
        "names[0] = 'hong'\n",
        "print(names)\n",
        "names[0:3] = 'kim'\n",
        "print(names)"
      ],
      "metadata": {
        "colab": {
          "base_uri": "https://localhost:8080/"
        },
        "id": "JYLnR5oSI5XN",
        "outputId": "e7fc20e5-4cae-412b-86b4-a41bc6f765c9"
      },
      "execution_count": null,
      "outputs": [
        {
          "output_type": "stream",
          "name": "stdout",
          "text": [
            "<class 'numpy.ndarray'>\n",
            "['홍길동' '장보고' '이순신' '김유신' '유관순']\n",
            "홍길동\n",
            "['hon' '장보고' '이순신' '김유신' '유관순']\n",
            "['kim' 'kim' 'kim' '김유신' '유관순']\n"
          ]
        }
      ]
    },
    {
      "cell_type": "markdown",
      "source": [
        "**numpy 단순 배열 생성**\n",
        "- zeros, ones\n",
        "- zeros_like, ones_like\n",
        "- empty\n",
        "- arange: python의 range()와 동일\n",
        "- linspace, logspace"
      ],
      "metadata": {
        "id": "U-YCp7qXJaH_"
      }
    },
    {
      "cell_type": "code",
      "source": [
        "# 크기가 정해져 있고, 모든 요소의 값이 0인 배열을 생성 zeros\n",
        "np.zeros(10)"
      ],
      "metadata": {
        "colab": {
          "base_uri": "https://localhost:8080/"
        },
        "id": "PPGv43fxKDVJ",
        "outputId": "42c322a4-c59a-4cbb-b59d-f3fd97ace594"
      },
      "execution_count": null,
      "outputs": [
        {
          "output_type": "execute_result",
          "data": {
            "text/plain": [
              "array([0., 0., 0., 0., 0., 0., 0., 0., 0., 0.])"
            ]
          },
          "metadata": {},
          "execution_count": 18
        }
      ]
    },
    {
      "cell_type": "code",
      "source": [
        "np.zeros((3,5))"
      ],
      "metadata": {
        "colab": {
          "base_uri": "https://localhost:8080/"
        },
        "id": "hPuCNMVbKNHB",
        "outputId": "db1e5d84-25b2-4bcf-fb37-b48614b13be2"
      },
      "execution_count": null,
      "outputs": [
        {
          "output_type": "execute_result",
          "data": {
            "text/plain": [
              "array([[0., 0., 0., 0., 0.],\n",
              "       [0., 0., 0., 0., 0.],\n",
              "       [0., 0., 0., 0., 0.]])"
            ]
          },
          "metadata": {},
          "execution_count": 19
        }
      ]
    },
    {
      "cell_type": "code",
      "source": [
        "# np.ones() 함수는 매개변수로 배열의 크기, 모든 요소의 값이 1인 배열이 생성\n",
        "np.ones(9)"
      ],
      "metadata": {
        "colab": {
          "base_uri": "https://localhost:8080/"
        },
        "id": "z3J3ux0VKVmH",
        "outputId": "e91bd58f-a7eb-4f86-92c7-71d4b36848f2"
      },
      "execution_count": null,
      "outputs": [
        {
          "output_type": "execute_result",
          "data": {
            "text/plain": [
              "array([1., 1., 1., 1., 1., 1., 1., 1., 1.])"
            ]
          },
          "metadata": {},
          "execution_count": 20
        }
      ]
    },
    {
      "cell_type": "code",
      "source": [
        "np.ones((2, 10))"
      ],
      "metadata": {
        "colab": {
          "base_uri": "https://localhost:8080/"
        },
        "id": "4aKWiDm5Khh1",
        "outputId": "d4cd6f21-617d-4c4f-c0d2-2dc971a75217"
      },
      "execution_count": null,
      "outputs": [
        {
          "output_type": "execute_result",
          "data": {
            "text/plain": [
              "array([[1., 1., 1., 1., 1., 1., 1., 1., 1., 1.],\n",
              "       [1., 1., 1., 1., 1., 1., 1., 1., 1., 1.]])"
            ]
          },
          "metadata": {},
          "execution_count": 21
        }
      ]
    },
    {
      "cell_type": "code",
      "source": [
        "# np.arange() 순열\n",
        "np.arange(10)"
      ],
      "metadata": {
        "colab": {
          "base_uri": "https://localhost:8080/"
        },
        "id": "tmxncL0cKrke",
        "outputId": "bb9b7ba4-f602-4ee1-f692-593284f043ba"
      },
      "execution_count": null,
      "outputs": [
        {
          "output_type": "execute_result",
          "data": {
            "text/plain": [
              "array([0, 1, 2, 3, 4, 5, 6, 7, 8, 9])"
            ]
          },
          "metadata": {},
          "execution_count": 22
        }
      ]
    },
    {
      "cell_type": "code",
      "source": [
        "np.arange(3, 10)"
      ],
      "metadata": {
        "colab": {
          "base_uri": "https://localhost:8080/"
        },
        "id": "DebO3aWKLHYW",
        "outputId": "5d607759-53b2-40bd-f3a2-3f635541f5d5"
      },
      "execution_count": null,
      "outputs": [
        {
          "output_type": "execute_result",
          "data": {
            "text/plain": [
              "array([3, 4, 5, 6, 7, 8, 9])"
            ]
          },
          "metadata": {},
          "execution_count": 23
        }
      ]
    },
    {
      "cell_type": "markdown",
      "source": [
        "**Array 연산**\n",
        "- 벡터화 연산 : 배열을 구성하는 각 요소들의 같은 위치끼리 개별연산을 수행하는 기능\n",
        "- 브로드캐스팅: 배열의 크기가 서로 다른 배열연산시 작은 크기의 배열이 큰 크기의 배열의 수에 맞춰서 계산을 수행하는 기능"
      ],
      "metadata": {
        "id": "hEgjisvJLKVU"
      }
    },
    {
      "cell_type": "code",
      "source": [
        "arr1 = np.array([ [1,2,3], [4,5,6] ])\n",
        "arr1"
      ],
      "metadata": {
        "colab": {
          "base_uri": "https://localhost:8080/"
        },
        "id": "tzSU37zoLlxC",
        "outputId": "52969dfb-8146-4a17-8f2b-d702847611cd"
      },
      "execution_count": null,
      "outputs": [
        {
          "output_type": "execute_result",
          "data": {
            "text/plain": [
              "array([[1, 2, 3],\n",
              "       [4, 5, 6]])"
            ]
          },
          "metadata": {},
          "execution_count": 25
        }
      ]
    },
    {
      "cell_type": "code",
      "source": [
        "arr1.shape"
      ],
      "metadata": {
        "colab": {
          "base_uri": "https://localhost:8080/"
        },
        "id": "WBUcaxE_MQLc",
        "outputId": "1c592b55-f9cb-4aa5-b1e9-fb7b46506ac9"
      },
      "execution_count": null,
      "outputs": [
        {
          "output_type": "execute_result",
          "data": {
            "text/plain": [
              "(2, 3)"
            ]
          },
          "metadata": {},
          "execution_count": 26
        }
      ]
    },
    {
      "cell_type": "code",
      "source": [
        "arr2 = np.array([[10,11,12], [13,14,15]])\n",
        "arr2"
      ],
      "metadata": {
        "colab": {
          "base_uri": "https://localhost:8080/"
        },
        "id": "ikHG1em2MT9A",
        "outputId": "e95740d3-d322-4904-88de-35afad9d0742"
      },
      "execution_count": null,
      "outputs": [
        {
          "output_type": "execute_result",
          "data": {
            "text/plain": [
              "array([[10, 11, 12],\n",
              "       [13, 14, 15]])"
            ]
          },
          "metadata": {},
          "execution_count": 27
        }
      ]
    },
    {
      "cell_type": "code",
      "source": [
        "arr2.shape"
      ],
      "metadata": {
        "colab": {
          "base_uri": "https://localhost:8080/"
        },
        "id": "Pwa3AmlAMgP6",
        "outputId": "b68292b7-44ed-4424-b158-e773d03e1cf7"
      },
      "execution_count": null,
      "outputs": [
        {
          "output_type": "execute_result",
          "data": {
            "text/plain": [
              "(2, 3)"
            ]
          },
          "metadata": {},
          "execution_count": 28
        }
      ]
    },
    {
      "cell_type": "code",
      "source": [
        "# array 덧셈\n",
        "arr1 + arr2"
      ],
      "metadata": {
        "colab": {
          "base_uri": "https://localhost:8080/"
        },
        "id": "TosgP2MZMh8h",
        "outputId": "4bfccac6-5696-417c-d0f4-9e1edb0df415"
      },
      "execution_count": null,
      "outputs": [
        {
          "output_type": "execute_result",
          "data": {
            "text/plain": [
              "array([[11, 13, 15],\n",
              "       [17, 19, 21]])"
            ]
          },
          "metadata": {},
          "execution_count": 29
        }
      ]
    },
    {
      "cell_type": "code",
      "source": [
        "arr1 - arr2"
      ],
      "metadata": {
        "colab": {
          "base_uri": "https://localhost:8080/"
        },
        "id": "4XhsKz-cMkRo",
        "outputId": "0d084f6d-01f1-489e-f228-ee752b0ffe85"
      },
      "execution_count": null,
      "outputs": [
        {
          "output_type": "execute_result",
          "data": {
            "text/plain": [
              "array([[-9, -9, -9],\n",
              "       [-9, -9, -9]])"
            ]
          },
          "metadata": {},
          "execution_count": 30
        }
      ]
    },
    {
      "cell_type": "code",
      "source": [
        "arr1 * arr2"
      ],
      "metadata": {
        "colab": {
          "base_uri": "https://localhost:8080/"
        },
        "id": "H-IVF_8vMmKp",
        "outputId": "13a30cc7-0bc3-41ca-8ec9-2114926018a3"
      },
      "execution_count": null,
      "outputs": [
        {
          "output_type": "execute_result",
          "data": {
            "text/plain": [
              "array([[10, 22, 36],\n",
              "       [52, 70, 90]])"
            ]
          },
          "metadata": {},
          "execution_count": 31
        }
      ]
    },
    {
      "cell_type": "code",
      "source": [
        "# 행렬곱 : a x b 와 c x d, b = c 여야함. 크기가 같지 않으면 행렬곱은 error\n",
        "\n",
        "a1 = np.array([[1,2], [3,4]])\n",
        "a2 = np.array([[5,6],[7,8]])\n",
        "np.dot(a1, a2)"
      ],
      "metadata": {
        "colab": {
          "base_uri": "https://localhost:8080/"
        },
        "id": "RzLggZ1BM2QE",
        "outputId": "9e02ec3c-65dc-4f6d-9a2b-09a23e8da7e9"
      },
      "execution_count": null,
      "outputs": [
        {
          "output_type": "execute_result",
          "data": {
            "text/plain": [
              "array([[19, 22],\n",
              "       [43, 50]])"
            ]
          },
          "metadata": {},
          "execution_count": 36
        }
      ]
    },
    {
      "cell_type": "code",
      "source": [
        "arr1/arr2"
      ],
      "metadata": {
        "colab": {
          "base_uri": "https://localhost:8080/"
        },
        "id": "2oXlzmMUM43x",
        "outputId": "335d70ac-8081-4c4e-9017-27ab36996b53"
      },
      "execution_count": null,
      "outputs": [
        {
          "output_type": "execute_result",
          "data": {
            "text/plain": [
              "array([[0.1       , 0.18181818, 0.25      ],\n",
              "       [0.30769231, 0.35714286, 0.4       ]])"
            ]
          },
          "metadata": {},
          "execution_count": 37
        }
      ]
    },
    {
      "cell_type": "code",
      "source": [
        "arr3 = np.array([10,11,12])\n",
        "arr3"
      ],
      "metadata": {
        "colab": {
          "base_uri": "https://localhost:8080/"
        },
        "id": "a8O-KBndNzNA",
        "outputId": "b5acdddc-d71b-4c6a-a150-bb49fcdd2450"
      },
      "execution_count": null,
      "outputs": [
        {
          "output_type": "execute_result",
          "data": {
            "text/plain": [
              "array([10, 11, 12])"
            ]
          },
          "metadata": {},
          "execution_count": 38
        }
      ]
    },
    {
      "cell_type": "code",
      "source": [
        "arr3.shape"
      ],
      "metadata": {
        "colab": {
          "base_uri": "https://localhost:8080/"
        },
        "id": "bOej9koaN6g6",
        "outputId": "29d399ad-403f-42dd-fa25-c74439723d7f"
      },
      "execution_count": null,
      "outputs": [
        {
          "output_type": "execute_result",
          "data": {
            "text/plain": [
              "(3,)"
            ]
          },
          "metadata": {},
          "execution_count": 39
        }
      ]
    },
    {
      "cell_type": "code",
      "source": [
        "arr1 + arr3"
      ],
      "metadata": {
        "colab": {
          "base_uri": "https://localhost:8080/"
        },
        "id": "Om32GpB5N8ZI",
        "outputId": "5743de4c-2a42-4baa-8f40-2384d67a579f"
      },
      "execution_count": null,
      "outputs": [
        {
          "output_type": "execute_result",
          "data": {
            "text/plain": [
              "array([[11, 13, 15],\n",
              "       [14, 16, 18]])"
            ]
          },
          "metadata": {},
          "execution_count": 40
        }
      ]
    },
    {
      "cell_type": "code",
      "source": [
        "arr1 * 10"
      ],
      "metadata": {
        "colab": {
          "base_uri": "https://localhost:8080/"
        },
        "id": "4VBTN2H2OGmP",
        "outputId": "2bde54bb-814c-4d0a-b28e-5359d60c9ff6"
      },
      "execution_count": null,
      "outputs": [
        {
          "output_type": "execute_result",
          "data": {
            "text/plain": [
              "array([[10, 20, 30],\n",
              "       [40, 50, 60]])"
            ]
          },
          "metadata": {},
          "execution_count": 42
        }
      ]
    },
    {
      "cell_type": "code",
      "source": [
        "arr1 ** 2"
      ],
      "metadata": {
        "colab": {
          "base_uri": "https://localhost:8080/"
        },
        "id": "Nu0gtzMKOOuO",
        "outputId": "749d5a72-df18-4b30-b409-a0583a88e28a"
      },
      "execution_count": null,
      "outputs": [
        {
          "output_type": "execute_result",
          "data": {
            "text/plain": [
              "array([[ 1,  4,  9],\n",
              "       [16, 25, 36]])"
            ]
          },
          "metadata": {},
          "execution_count": 43
        }
      ]
    },
    {
      "cell_type": "markdown",
      "source": [
        "**Array 인덱싱**\n",
        "\n",
        "\n",
        "\n",
        "\n",
        "\n"
      ],
      "metadata": {
        "id": "MdryG7gaOVI8"
      }
    },
    {
      "cell_type": "code",
      "source": [
        "arr1 = np.arange(10)\n",
        "arr1"
      ],
      "metadata": {
        "colab": {
          "base_uri": "https://localhost:8080/"
        },
        "id": "Ykfk6d4_OeTE",
        "outputId": "35f8e267-7dcb-4b2a-c47c-886df9baf169"
      },
      "execution_count": null,
      "outputs": [
        {
          "output_type": "execute_result",
          "data": {
            "text/plain": [
              "array([0, 1, 2, 3, 4, 5, 6, 7, 8, 9])"
            ]
          },
          "metadata": {},
          "execution_count": 44
        }
      ]
    },
    {
      "cell_type": "code",
      "source": [
        "# 0번째 요소\n",
        "print(arr1[0])\n",
        "\n",
        "# 3번째 요소\n",
        "print(arr1[3])"
      ],
      "metadata": {
        "colab": {
          "base_uri": "https://localhost:8080/"
        },
        "id": "dmXGFmpNOhLY",
        "outputId": "0d83a324-4947-47cd-ef3a-70a3c52105bd"
      },
      "execution_count": null,
      "outputs": [
        {
          "output_type": "stream",
          "name": "stdout",
          "text": [
            "0\n",
            "3\n"
          ]
        }
      ]
    },
    {
      "cell_type": "code",
      "source": [
        "# 3번째 요소부터 8번째 요소까지 출력\n",
        "print(arr1[3:9])\n",
        "\n",
        "# 전체\n",
        "print(arr1[:])"
      ],
      "metadata": {
        "colab": {
          "base_uri": "https://localhost:8080/"
        },
        "id": "SK_r6xQfOwIm",
        "outputId": "9dc6f892-751b-42ac-a6a6-3ccec7f8a68d"
      },
      "execution_count": null,
      "outputs": [
        {
          "output_type": "stream",
          "name": "stdout",
          "text": [
            "[3 4 5 6 7 8]\n",
            "[0 1 2 3 4 5 6 7 8 9]\n"
          ]
        }
      ]
    },
    {
      "cell_type": "code",
      "source": [
        "arr2 = np.array([[1,2,3,4], [5,6,7,8], [9,10,11,12]])\n",
        "arr2"
      ],
      "metadata": {
        "colab": {
          "base_uri": "https://localhost:8080/"
        },
        "id": "WU8YjUBNO6FR",
        "outputId": "6b64f658-d7d4-4499-a251-29ed3614c6e1"
      },
      "execution_count": null,
      "outputs": [
        {
          "output_type": "execute_result",
          "data": {
            "text/plain": [
              "array([[ 1,  2,  3,  4],\n",
              "       [ 5,  6,  7,  8],\n",
              "       [ 9, 10, 11, 12]])"
            ]
          },
          "metadata": {},
          "execution_count": 47
        }
      ]
    },
    {
      "cell_type": "code",
      "source": [
        "# 배열명[행,열], 배열명[행][열]\n",
        "arr2[0,0]"
      ],
      "metadata": {
        "colab": {
          "base_uri": "https://localhost:8080/"
        },
        "id": "U4qu-j2BPOEI",
        "outputId": "33c9ad1f-ccaf-42e6-9d57-7fbd2ed124fb"
      },
      "execution_count": null,
      "outputs": [
        {
          "output_type": "execute_result",
          "data": {
            "text/plain": [
              "1"
            ]
          },
          "metadata": {},
          "execution_count": 48
        }
      ]
    },
    {
      "cell_type": "code",
      "source": [
        "# 2행의 모든 요소 추출\n",
        "arr2[2, :]"
      ],
      "metadata": {
        "colab": {
          "base_uri": "https://localhost:8080/"
        },
        "id": "dViDSo8zPU5_",
        "outputId": "e865d44d-52dd-401d-a774-d2d38674e34a"
      },
      "execution_count": null,
      "outputs": [
        {
          "output_type": "execute_result",
          "data": {
            "text/plain": [
              "array([ 9, 10, 11, 12])"
            ]
          },
          "metadata": {},
          "execution_count": 49
        }
      ]
    },
    {
      "cell_type": "code",
      "source": [
        "# 2행의 3번째 요소\n",
        "arr2[2,3]"
      ],
      "metadata": {
        "colab": {
          "base_uri": "https://localhost:8080/"
        },
        "id": "ahEvV7ZoPetX",
        "outputId": "a5ac3e5c-3673-442f-8b72-7b9f822c1706"
      },
      "execution_count": null,
      "outputs": [
        {
          "output_type": "execute_result",
          "data": {
            "text/plain": [
              "12"
            ]
          },
          "metadata": {},
          "execution_count": 50
        }
      ]
    },
    {
      "cell_type": "code",
      "source": [
        "# 모든 행의 3번째 열의 요소 추출\n",
        "arr2[:, 3]"
      ],
      "metadata": {
        "colab": {
          "base_uri": "https://localhost:8080/"
        },
        "id": "9X0rFNF2PiZ7",
        "outputId": "e86c9247-b6b9-4f5d-acba-c94d0dfb0e6d"
      },
      "execution_count": null,
      "outputs": [
        {
          "output_type": "execute_result",
          "data": {
            "text/plain": [
              "array([ 4,  8, 12])"
            ]
          },
          "metadata": {},
          "execution_count": 51
        }
      ]
    },
    {
      "cell_type": "markdown",
      "source": [
        "**Array의 Boolean Indexing(Mask bit)**\n",
        "\n"
      ],
      "metadata": {
        "id": "g6JpQ3bePu5C"
      }
    },
    {
      "cell_type": "code",
      "source": [
        "names = np.array(['Beomwwoo', 'Beomwoo', 'Kim', 'Joan', 'Lee', 'Beomwoo', 'Park', 'Beomwoo'])\n",
        "names"
      ],
      "metadata": {
        "colab": {
          "base_uri": "https://localhost:8080/"
        },
        "id": "WDqb1dGgQBY6",
        "outputId": "bb935533-9f1a-4e18-bc62-7cbb252c10e3"
      },
      "execution_count": null,
      "outputs": [
        {
          "output_type": "execute_result",
          "data": {
            "text/plain": [
              "array(['Beomwwoo', 'Beomwoo', 'Kim', 'Joan', 'Lee', 'Beomwoo', 'Park',\n",
              "       'Beomwoo'], dtype='<U8')"
            ]
          },
          "metadata": {},
          "execution_count": 52
        }
      ]
    },
    {
      "cell_type": "code",
      "source": [
        "names.shape"
      ],
      "metadata": {
        "colab": {
          "base_uri": "https://localhost:8080/"
        },
        "id": "Z6S9hChzQShW",
        "outputId": "a9413bc0-488a-4866-9219-479dae746235"
      },
      "execution_count": null,
      "outputs": [
        {
          "output_type": "execute_result",
          "data": {
            "text/plain": [
              "(8,)"
            ]
          },
          "metadata": {},
          "execution_count": 53
        }
      ]
    },
    {
      "cell_type": "code",
      "source": [
        "# 정규분포 난수 : 평균 0, 표준편차 1인\n",
        "data = np.random.randn(8,4)\n",
        "data"
      ],
      "metadata": {
        "colab": {
          "base_uri": "https://localhost:8080/"
        },
        "id": "h88bHk_YQZx9",
        "outputId": "59a09d17-8bd2-4736-c5c7-713969ad3210"
      },
      "execution_count": null,
      "outputs": [
        {
          "output_type": "execute_result",
          "data": {
            "text/plain": [
              "array([[-0.17430159, -0.51491497,  0.47744894, -0.7788717 ],\n",
              "       [-0.88707193,  0.1982071 ,  1.94766387,  0.114101  ],\n",
              "       [ 1.52078799,  0.88999359,  1.47430501,  0.13449456],\n",
              "       [ 1.57177576, -0.6119431 ,  0.16842137,  0.8241097 ],\n",
              "       [-0.37062591, -0.07614754,  0.25688109,  0.01650552],\n",
              "       [-0.49044999,  1.52386244,  1.04808012, -0.18683364],\n",
              "       [ 0.18207977,  0.21054545, -0.56680715, -0.87844756],\n",
              "       [ 1.99144208,  2.10224172,  0.79158848, -1.08398496]])"
            ]
          },
          "metadata": {},
          "execution_count": 55
        }
      ]
    },
    {
      "cell_type": "code",
      "source": [
        "# 벡터화 연산\n",
        "mask = names =='Beomwoo'\n",
        "mask"
      ],
      "metadata": {
        "colab": {
          "base_uri": "https://localhost:8080/"
        },
        "id": "_xFY_qq7QpW-",
        "outputId": "ede8827a-a881-4018-e0fb-85802378a361"
      },
      "execution_count": null,
      "outputs": [
        {
          "output_type": "execute_result",
          "data": {
            "text/plain": [
              "array([False,  True, False, False, False,  True, False,  True])"
            ]
          },
          "metadata": {},
          "execution_count": 56
        }
      ]
    },
    {
      "cell_type": "code",
      "source": [
        "data[mask, :]"
      ],
      "metadata": {
        "colab": {
          "base_uri": "https://localhost:8080/"
        },
        "id": "XuHbpiFwRphr",
        "outputId": "8c82fe5e-6e93-4eb4-d9bb-73f06f9c7234"
      },
      "execution_count": null,
      "outputs": [
        {
          "output_type": "execute_result",
          "data": {
            "text/plain": [
              "array([[-0.88707193,  0.1982071 ,  1.94766387,  0.114101  ],\n",
              "       [-0.49044999,  1.52386244,  1.04808012, -0.18683364],\n",
              "       [ 1.99144208,  2.10224172,  0.79158848, -1.08398496]])"
            ]
          },
          "metadata": {},
          "execution_count": 57
        }
      ]
    },
    {
      "cell_type": "code",
      "source": [
        "data[names == 'Beomwoo', :]"
      ],
      "metadata": {
        "colab": {
          "base_uri": "https://localhost:8080/"
        },
        "id": "S8oLyoWnRytn",
        "outputId": "b14647ed-985a-430a-dd69-959acf47ba2b"
      },
      "execution_count": null,
      "outputs": [
        {
          "output_type": "execute_result",
          "data": {
            "text/plain": [
              "array([[-0.88707193,  0.1982071 ,  1.94766387,  0.114101  ],\n",
              "       [-0.49044999,  1.52386244,  1.04808012, -0.18683364],\n",
              "       [ 1.99144208,  2.10224172,  0.79158848, -1.08398496]])"
            ]
          },
          "metadata": {},
          "execution_count": 59
        }
      ]
    },
    {
      "cell_type": "code",
      "source": [
        "# |(or) &(and)\n",
        "data[:,0] > 0"
      ],
      "metadata": {
        "colab": {
          "base_uri": "https://localhost:8080/"
        },
        "id": "K1nHO_63R-EN",
        "outputId": "891561b7-7478-4b93-d24c-5ceba41bf939"
      },
      "execution_count": null,
      "outputs": [
        {
          "output_type": "execute_result",
          "data": {
            "text/plain": [
              "array([False, False,  True,  True, False, False,  True,  True])"
            ]
          },
          "metadata": {},
          "execution_count": 60
        }
      ]
    },
    {
      "cell_type": "code",
      "source": [
        "data[data[:,0] > 0, :]"
      ],
      "metadata": {
        "colab": {
          "base_uri": "https://localhost:8080/"
        },
        "id": "JvR71dkhSd8k",
        "outputId": "82414299-83fc-4374-aceb-b4078f6c8d91"
      },
      "execution_count": null,
      "outputs": [
        {
          "output_type": "execute_result",
          "data": {
            "text/plain": [
              "array([[ 1.52078799,  0.88999359,  1.47430501,  0.13449456],\n",
              "       [ 1.57177576, -0.6119431 ,  0.16842137,  0.8241097 ],\n",
              "       [ 0.18207977,  0.21054545, -0.56680715, -0.87844756],\n",
              "       [ 1.99144208,  2.10224172,  0.79158848, -1.08398496]])"
            ]
          },
          "metadata": {},
          "execution_count": 63
        }
      ]
    },
    {
      "cell_type": "code",
      "source": [
        "# 0번째 열의 값이 0보다 작은 행의 2,3번째 열 값을 추출\n",
        "data[data[:,0] < 0, 2:4]"
      ],
      "metadata": {
        "colab": {
          "base_uri": "https://localhost:8080/"
        },
        "id": "0JvyR7irShx9",
        "outputId": "52da1977-25e6-4a28-b43f-2e7a58397f6a"
      },
      "execution_count": null,
      "outputs": [
        {
          "output_type": "execute_result",
          "data": {
            "text/plain": [
              "array([[ 0.47744894, -0.7788717 ],\n",
              "       [ 1.94766387,  0.114101  ],\n",
              "       [ 0.25688109,  0.01650552],\n",
              "       [ 1.04808012, -0.18683364]])"
            ]
          },
          "metadata": {},
          "execution_count": 64
        }
      ]
    },
    {
      "cell_type": "code",
      "source": [
        "# 0번째 열의 값이 0보다 작은 행의 2,3번재 열 값을 0으로 치환\n",
        "data[data[:,0] < 0, 2:4] = 0\n",
        "data"
      ],
      "metadata": {
        "colab": {
          "base_uri": "https://localhost:8080/"
        },
        "id": "6WVSt7IZS5kN",
        "outputId": "f044716b-48f1-42d9-d630-5d958f853891"
      },
      "execution_count": null,
      "outputs": [
        {
          "output_type": "execute_result",
          "data": {
            "text/plain": [
              "array([[-0.17430159, -0.51491497,  0.        ,  0.        ],\n",
              "       [-0.88707193,  0.1982071 ,  0.        ,  0.        ],\n",
              "       [ 1.52078799,  0.88999359,  1.47430501,  0.13449456],\n",
              "       [ 1.57177576, -0.6119431 ,  0.16842137,  0.8241097 ],\n",
              "       [-0.37062591, -0.07614754,  0.        ,  0.        ],\n",
              "       [-0.49044999,  1.52386244,  0.        ,  0.        ],\n",
              "       [ 0.18207977,  0.21054545, -0.56680715, -0.87844756],\n",
              "       [ 1.99144208,  2.10224172,  0.79158848, -1.08398496]])"
            ]
          },
          "metadata": {},
          "execution_count": 65
        }
      ]
    },
    {
      "cell_type": "code",
      "source": [
        "# 요소의 갯수 추출하는 속성 : size\n",
        "data.size"
      ],
      "metadata": {
        "colab": {
          "base_uri": "https://localhost:8080/"
        },
        "id": "yu_GDGDBTWdy",
        "outputId": "1be2059d-ab34-47fa-e6d6-484f45c921fd"
      },
      "execution_count": null,
      "outputs": [
        {
          "output_type": "execute_result",
          "data": {
            "text/plain": [
              "32"
            ]
          },
          "metadata": {},
          "execution_count": 66
        }
      ]
    },
    {
      "cell_type": "code",
      "source": [
        "# 배열의 형태 변환 : reshape()\n",
        "arr1 = np.arange(10)\n",
        "arr1"
      ],
      "metadata": {
        "colab": {
          "base_uri": "https://localhost:8080/"
        },
        "id": "p3NZAHUcWAXk",
        "outputId": "fdb6d687-5ab0-4f1a-cef2-c96c84a0ec4e"
      },
      "execution_count": null,
      "outputs": [
        {
          "output_type": "execute_result",
          "data": {
            "text/plain": [
              "array([0, 1, 2, 3, 4, 5, 6, 7, 8, 9])"
            ]
          },
          "metadata": {},
          "execution_count": 67
        }
      ]
    },
    {
      "cell_type": "code",
      "source": [
        "arr1[1]"
      ],
      "metadata": {
        "colab": {
          "base_uri": "https://localhost:8080/"
        },
        "id": "HeArv8reWSEa",
        "outputId": "6f02010d-2fe0-41b8-f167-d41f741e92a3"
      },
      "execution_count": null,
      "outputs": [
        {
          "output_type": "execute_result",
          "data": {
            "text/plain": [
              "1"
            ]
          },
          "metadata": {},
          "execution_count": 68
        }
      ]
    },
    {
      "cell_type": "code",
      "source": [
        "arr2 = np.arange(9).reshape(3,3)\n",
        "arr2"
      ],
      "metadata": {
        "colab": {
          "base_uri": "https://localhost:8080/"
        },
        "id": "qGCLFYXPWS4X",
        "outputId": "37fa6b8f-6dfe-4e8f-dd67-b238424febee"
      },
      "execution_count": null,
      "outputs": [
        {
          "output_type": "execute_result",
          "data": {
            "text/plain": [
              "array([[0, 1, 2],\n",
              "       [3, 4, 5],\n",
              "       [6, 7, 8]])"
            ]
          },
          "metadata": {},
          "execution_count": 70
        }
      ]
    },
    {
      "cell_type": "code",
      "source": [
        "arr2[2,1]"
      ],
      "metadata": {
        "colab": {
          "base_uri": "https://localhost:8080/"
        },
        "id": "9ElWRfRlWbiM",
        "outputId": "34c7a272-6a9b-4736-aaf2-a87ffd8a644a"
      },
      "execution_count": null,
      "outputs": [
        {
          "output_type": "execute_result",
          "data": {
            "text/plain": [
              "7"
            ]
          },
          "metadata": {},
          "execution_count": 71
        }
      ]
    },
    {
      "cell_type": "code",
      "source": [
        "arr3 = np.reshape(np.arange(24),(2,3,4))\n",
        "arr3"
      ],
      "metadata": {
        "colab": {
          "base_uri": "https://localhost:8080/"
        },
        "id": "xrh8fbfmWyIb",
        "outputId": "c34c231c-8ec8-474f-e9a2-12f5da2b7693"
      },
      "execution_count": null,
      "outputs": [
        {
          "output_type": "execute_result",
          "data": {
            "text/plain": [
              "array([[[ 0,  1,  2,  3],\n",
              "        [ 4,  5,  6,  7],\n",
              "        [ 8,  9, 10, 11]],\n",
              "\n",
              "       [[12, 13, 14, 15],\n",
              "        [16, 17, 18, 19],\n",
              "        [20, 21, 22, 23]]])"
            ]
          },
          "metadata": {},
          "execution_count": 72
        }
      ]
    },
    {
      "cell_type": "code",
      "source": [
        "arr3[1,1,2]"
      ],
      "metadata": {
        "colab": {
          "base_uri": "https://localhost:8080/"
        },
        "id": "BwQ3PH4ZW3s1",
        "outputId": "f278cbb5-2322-4931-bcde-043f1142792a"
      },
      "execution_count": null,
      "outputs": [
        {
          "output_type": "execute_result",
          "data": {
            "text/plain": [
              "18"
            ]
          },
          "metadata": {},
          "execution_count": 73
        }
      ]
    },
    {
      "cell_type": "code",
      "source": [
        "arr3[1][2][3]"
      ],
      "metadata": {
        "colab": {
          "base_uri": "https://localhost:8080/"
        },
        "id": "KtqqaAIpW43x",
        "outputId": "e031f5e2-bf50-47c6-fec8-5e2ef6d12162"
      },
      "execution_count": null,
      "outputs": [
        {
          "output_type": "execute_result",
          "data": {
            "text/plain": [
              "23"
            ]
          },
          "metadata": {},
          "execution_count": 74
        }
      ]
    },
    {
      "cell_type": "markdown",
      "source": [
        "**slicing(슬라이싱): 데이터의 일부분을 추출**\n",
        "- 모든 배열은 항상 원본배열의 뷰(view)이다.\n",
        "- 뷰(view)는 원본 객체를 인덱싱하여 자른 후 생성된 배열을 뜻한다.\n",
        "- 데이터베이스(Oracle)의 뷰(view)는 원본에서부터 유도된 가상테이블이다."
      ],
      "metadata": {
        "id": "h4Bb1ZU_XFLm"
      }
    },
    {
      "cell_type": "code",
      "source": [
        "arr1"
      ],
      "metadata": {
        "colab": {
          "base_uri": "https://localhost:8080/"
        },
        "id": "4cS3qiW-YHdV",
        "outputId": "797fa06b-5701-45b7-c84d-6746a526ba1b"
      },
      "execution_count": null,
      "outputs": [
        {
          "output_type": "execute_result",
          "data": {
            "text/plain": [
              "array([0, 1, 2, 3, 4, 5, 6, 7, 8, 9])"
            ]
          },
          "metadata": {},
          "execution_count": 78
        }
      ]
    },
    {
      "cell_type": "code",
      "source": [
        "arr1[1]"
      ],
      "metadata": {
        "colab": {
          "base_uri": "https://localhost:8080/"
        },
        "id": "kUGeVXwUXNVT",
        "outputId": "80c463a3-5593-47c0-b8b8-684e1c0aaedc"
      },
      "execution_count": null,
      "outputs": [
        {
          "output_type": "execute_result",
          "data": {
            "text/plain": [
              "1"
            ]
          },
          "metadata": {},
          "execution_count": 75
        }
      ]
    },
    {
      "cell_type": "code",
      "source": [
        "arr1[:6]"
      ],
      "metadata": {
        "colab": {
          "base_uri": "https://localhost:8080/"
        },
        "id": "wHnBnfNSYCKg",
        "outputId": "832a0c91-7762-4b24-a86e-8f11f4ef8965"
      },
      "execution_count": null,
      "outputs": [
        {
          "output_type": "execute_result",
          "data": {
            "text/plain": [
              "array([0, 1, 2, 3, 4, 5])"
            ]
          },
          "metadata": {},
          "execution_count": 76
        }
      ]
    },
    {
      "cell_type": "code",
      "source": [
        "arr1[0:4]"
      ],
      "metadata": {
        "colab": {
          "base_uri": "https://localhost:8080/"
        },
        "id": "2E4dbw25YD-a",
        "outputId": "771bddc2-84ae-4217-a84e-4fef8dabc004"
      },
      "execution_count": null,
      "outputs": [
        {
          "output_type": "execute_result",
          "data": {
            "text/plain": [
              "array([0, 1, 2, 3])"
            ]
          },
          "metadata": {},
          "execution_count": 77
        }
      ]
    },
    {
      "cell_type": "code",
      "source": [
        "arr1[1::2] # 이게 중요"
      ],
      "metadata": {
        "colab": {
          "base_uri": "https://localhost:8080/"
        },
        "id": "sqgbZ56qYFdQ",
        "outputId": "27aae069-8945-4773-eb5c-8b2432e9d100"
      },
      "execution_count": null,
      "outputs": [
        {
          "output_type": "execute_result",
          "data": {
            "text/plain": [
              "array([1, 3, 5, 7, 9])"
            ]
          },
          "metadata": {},
          "execution_count": 79
        }
      ]
    },
    {
      "cell_type": "code",
      "source": [
        "arr1[1:7:2]"
      ],
      "metadata": {
        "colab": {
          "base_uri": "https://localhost:8080/"
        },
        "id": "YFeSRAZBYLJH",
        "outputId": "829cf2d2-e346-4955-c53c-87f478e62536"
      },
      "execution_count": null,
      "outputs": [
        {
          "output_type": "execute_result",
          "data": {
            "text/plain": [
              "array([1, 3, 5])"
            ]
          },
          "metadata": {},
          "execution_count": 80
        }
      ]
    },
    {
      "cell_type": "code",
      "source": [
        "arr1[::2]"
      ],
      "metadata": {
        "colab": {
          "base_uri": "https://localhost:8080/"
        },
        "id": "iO_Tapc-YPpK",
        "outputId": "c6b1d44d-a7ca-41f1-8fbe-51061d23a9f8"
      },
      "execution_count": null,
      "outputs": [
        {
          "output_type": "execute_result",
          "data": {
            "text/plain": [
              "array([0, 2, 4, 6, 8])"
            ]
          },
          "metadata": {},
          "execution_count": 81
        }
      ]
    },
    {
      "cell_type": "code",
      "source": [
        "#  리버스 인덱스는 배열의 뒤에서부터 인덱스값이 -1로 시작되는 인덱스\n",
        "arr1[-3:9]"
      ],
      "metadata": {
        "colab": {
          "base_uri": "https://localhost:8080/"
        },
        "id": "5upOlcgiYWLA",
        "outputId": "943f35de-5598-4864-e83f-16ee6c8a8067"
      },
      "execution_count": null,
      "outputs": [
        {
          "output_type": "execute_result",
          "data": {
            "text/plain": [
              "array([7, 8])"
            ]
          },
          "metadata": {},
          "execution_count": 84
        }
      ]
    },
    {
      "cell_type": "code",
      "source": [
        "arr1[:-3]"
      ],
      "metadata": {
        "colab": {
          "base_uri": "https://localhost:8080/"
        },
        "id": "9zXiH9e5Yc9g",
        "outputId": "3f5b7311-902c-4bc5-f5fb-113ebca31711"
      },
      "execution_count": null,
      "outputs": [
        {
          "output_type": "execute_result",
          "data": {
            "text/plain": [
              "array([0, 1, 2, 3, 4, 5, 6])"
            ]
          },
          "metadata": {},
          "execution_count": 85
        }
      ]
    },
    {
      "cell_type": "code",
      "source": [
        "arr2"
      ],
      "metadata": {
        "colab": {
          "base_uri": "https://localhost:8080/"
        },
        "id": "VkCZOrDWYzkN",
        "outputId": "83d4f78d-b663-4822-e8fe-ddfabda5d143"
      },
      "execution_count": null,
      "outputs": [
        {
          "output_type": "execute_result",
          "data": {
            "text/plain": [
              "array([[0, 1, 2],\n",
              "       [3, 4, 5],\n",
              "       [6, 7, 8]])"
            ]
          },
          "metadata": {},
          "execution_count": 86
        }
      ]
    },
    {
      "cell_type": "code",
      "source": [
        "arr2[:2,:2]"
      ],
      "metadata": {
        "colab": {
          "base_uri": "https://localhost:8080/"
        },
        "id": "eFYLX76sY736",
        "outputId": "5bc17e6d-851a-48fd-b4da-57ae2ff7216f"
      },
      "execution_count": null,
      "outputs": [
        {
          "output_type": "execute_result",
          "data": {
            "text/plain": [
              "array([[0, 1],\n",
              "       [3, 4]])"
            ]
          },
          "metadata": {},
          "execution_count": 87
        }
      ]
    },
    {
      "cell_type": "code",
      "source": [
        "arr2[:,::-1]"
      ],
      "metadata": {
        "colab": {
          "base_uri": "https://localhost:8080/"
        },
        "id": "o_9jYF1nY9bb",
        "outputId": "e1d30a0f-55c7-4c9e-b616-0fea7f7087e3"
      },
      "execution_count": null,
      "outputs": [
        {
          "output_type": "execute_result",
          "data": {
            "text/plain": [
              "array([[2, 1, 0],\n",
              "       [5, 4, 3],\n",
              "       [8, 7, 6]])"
            ]
          },
          "metadata": {},
          "execution_count": 88
        }
      ]
    },
    {
      "cell_type": "markdown",
      "source": [
        "## Numpy 기술 통계 관련 함수\n",
        "- 간단한 통계를 계산할 때 사용하는 함수\n",
        "- 데이터의 개수(count)\n",
        "- 평균(mean, average)\n",
        "- 분산(var, variance)\n",
        "- 표준편차(std, standard deviation)\n",
        "- 최대값(max, maximum)\n",
        "- 최소값(min, minimum)\n",
        "- 중앙값(median): 짝수일 경우 가운데 두개의 숫자의 합을 2로 나눈 결과\n",
        "- 사분위수(quantile)"
      ],
      "metadata": {
        "id": "TRYoC44AZF4Z"
      }
    },
    {
      "cell_type": "markdown",
      "source": [
        "## 집계 함수(Aggregate Function)\n",
        "- numpy의 모든 집계 함수는 axis를 기준으로 계산된다\n",
        "- 집계함수에 axis를 지정하지 않으면 axis = None이다.\n",
        "- axis = None, 0, 1이다.\n",
        "- axis = None : 전체 행렬을 하나의 배열로 간주하여 범위 전체를 대상으로 계산\n",
        "- axis = 0: 행을 기준으로 각 행의 동일한 인덱스의 요소를 그룹으로 계산(열단위 계산)\n",
        "- axis = 1: 열을 기준으로 각 열의 같은 인덱스의 요소를 그룹으로 계산(행단위 계산)"
      ],
      "metadata": {
        "id": "63dBVltoaK87"
      }
    },
    {
      "cell_type": "code",
      "source": [
        "a = np.arange(1,10).reshape(3,3)\n",
        "print(a)"
      ],
      "metadata": {
        "colab": {
          "base_uri": "https://localhost:8080/"
        },
        "id": "c-NxXDIPaxps",
        "outputId": "9d2a9396-6936-4ad1-ce32-71ab1bd968a4"
      },
      "execution_count": null,
      "outputs": [
        {
          "output_type": "stream",
          "name": "stdout",
          "text": [
            "[[1 2 3]\n",
            " [4 5 6]\n",
            " [7 8 9]]\n"
          ]
        }
      ]
    },
    {
      "cell_type": "markdown",
      "source": [
        "**수업에서 사용할 함수 정의**"
      ],
      "metadata": {
        "id": "q4guf3lgbtYO"
      }
    },
    {
      "cell_type": "code",
      "source": [
        "def pprint(arr):\n",
        "    print('type: {}'.format(type(arr)))\n",
        "    print('shape:{}, dimension:{}, dtype:{}'.format(arr.shape, arr.ndim, arr.dtype))\n",
        "    print(\"Array's Data: \\n\", arr)"
      ],
      "metadata": {
        "id": "gNJfhE5McC-t"
      },
      "execution_count": null,
      "outputs": []
    },
    {
      "cell_type": "code",
      "source": [
        "pprint(a)"
      ],
      "metadata": {
        "colab": {
          "base_uri": "https://localhost:8080/"
        },
        "id": "zdm9bPMqcmhc",
        "outputId": "ea227791-737f-4f71-e45e-fff2c7ac6de0"
      },
      "execution_count": null,
      "outputs": [
        {
          "output_type": "stream",
          "name": "stdout",
          "text": [
            "type: <class 'numpy.ndarray'>\n",
            "shape:(3, 3), dimension:2, dtype:int64\n",
            "Array's Data: \n",
            " [[1 2 3]\n",
            " [4 5 6]\n",
            " [7 8 9]]\n"
          ]
        }
      ]
    },
    {
      "cell_type": "code",
      "source": [
        "# ndarray 배열객체.함수()\n",
        "# np.함수(객체)\n",
        "\n",
        "a.sum(), np.sum(a)"
      ],
      "metadata": {
        "colab": {
          "base_uri": "https://localhost:8080/"
        },
        "id": "J2BKn6-DcoQe",
        "outputId": "baf51150-2f4f-4dce-ef6c-10cdbeaf491a"
      },
      "execution_count": null,
      "outputs": [
        {
          "output_type": "execute_result",
          "data": {
            "text/plain": [
              "(45, 45)"
            ]
          },
          "metadata": {},
          "execution_count": 92
        }
      ]
    },
    {
      "cell_type": "code",
      "source": [
        "# 열단위로 계산\n",
        "a.sum(axis=0), np.sum(a, axis=0)"
      ],
      "metadata": {
        "colab": {
          "base_uri": "https://localhost:8080/"
        },
        "id": "KuL52260dQl6",
        "outputId": "e99986b7-b944-4ddf-dbd4-777b576b0cdf"
      },
      "execution_count": null,
      "outputs": [
        {
          "output_type": "execute_result",
          "data": {
            "text/plain": [
              "(array([12, 15, 18]), array([12, 15, 18]))"
            ]
          },
          "metadata": {},
          "execution_count": 93
        }
      ]
    },
    {
      "cell_type": "code",
      "source": [
        "# 행단위로 계산\n",
        "a.sum(axis=1), np.sum(a, axis=1)"
      ],
      "metadata": {
        "colab": {
          "base_uri": "https://localhost:8080/"
        },
        "id": "x9hY-qjedluP",
        "outputId": "c9c1d303-0bdf-4e98-d2a0-719b1fd8c296"
      },
      "execution_count": null,
      "outputs": [
        {
          "output_type": "execute_result",
          "data": {
            "text/plain": [
              "(array([ 6, 15, 24]), array([ 6, 15, 24]))"
            ]
          },
          "metadata": {},
          "execution_count": 95
        }
      ]
    },
    {
      "cell_type": "markdown",
      "source": [
        "**ndarray객체.min() or np.min(): 최소값**"
      ],
      "metadata": {
        "id": "upYtobfCdr3G"
      }
    },
    {
      "cell_type": "code",
      "source": [
        "# axis=None, 전체 요소를 대상으로 계산\n",
        "a.min(), np.min(a)"
      ],
      "metadata": {
        "colab": {
          "base_uri": "https://localhost:8080/"
        },
        "id": "p8wHxttMwoMw",
        "outputId": "96c65563-b72c-4102-998a-21300ac35524"
      },
      "execution_count": null,
      "outputs": [
        {
          "output_type": "execute_result",
          "data": {
            "text/plain": [
              "(1, 1)"
            ]
          },
          "metadata": {},
          "execution_count": 97
        }
      ]
    },
    {
      "cell_type": "code",
      "source": [
        "# 열단위 계산\n",
        "a.min(axis=0), np.sum(a, axis=0)"
      ],
      "metadata": {
        "colab": {
          "base_uri": "https://localhost:8080/"
        },
        "id": "PMDJOqVBwy8s",
        "outputId": "8d52286a-bc3d-485a-dd74-94db38f64b24"
      },
      "execution_count": null,
      "outputs": [
        {
          "output_type": "execute_result",
          "data": {
            "text/plain": [
              "(array([1, 2, 3]), array([12, 15, 18]))"
            ]
          },
          "metadata": {},
          "execution_count": 98
        }
      ]
    },
    {
      "cell_type": "code",
      "source": [
        "# 행단위 계산\n",
        "a.min(axis=1), np.min(a, axis=1)"
      ],
      "metadata": {
        "colab": {
          "base_uri": "https://localhost:8080/"
        },
        "id": "vu6bF3D-xUQM",
        "outputId": "4d751fda-1ae9-4d80-904d-ec4e142813cd"
      },
      "execution_count": null,
      "outputs": [
        {
          "output_type": "execute_result",
          "data": {
            "text/plain": [
              "(array([1, 4, 7]), array([1, 4, 7]))"
            ]
          },
          "metadata": {},
          "execution_count": 99
        }
      ]
    },
    {
      "cell_type": "code",
      "source": [
        "# 전체 요소를 대상\n",
        "a.max(), np.max(a)"
      ],
      "metadata": {
        "colab": {
          "base_uri": "https://localhost:8080/"
        },
        "id": "wv9cs2vlxatT",
        "outputId": "4478f7f6-e672-4d34-8920-779ced814dd0"
      },
      "execution_count": null,
      "outputs": [
        {
          "output_type": "execute_result",
          "data": {
            "text/plain": [
              "(9, 9)"
            ]
          },
          "metadata": {},
          "execution_count": 100
        }
      ]
    },
    {
      "cell_type": "code",
      "source": [
        "a.max(axis=0), np.max(a, axis=0)"
      ],
      "metadata": {
        "colab": {
          "base_uri": "https://localhost:8080/"
        },
        "id": "sHFIBxuTxg33",
        "outputId": "942387e3-6357-4ab2-d012-81f0c0fbd80f"
      },
      "execution_count": null,
      "outputs": [
        {
          "output_type": "execute_result",
          "data": {
            "text/plain": [
              "(array([7, 8, 9]), array([7, 8, 9]))"
            ]
          },
          "metadata": {},
          "execution_count": 102
        }
      ]
    },
    {
      "cell_type": "code",
      "source": [
        "a.max(axis=1), np.max(a, axis=1)"
      ],
      "metadata": {
        "colab": {
          "base_uri": "https://localhost:8080/"
        },
        "id": "d2pwdqTExooJ",
        "outputId": "1f8d1cf6-e372-4aac-c5d1-6c57043834f6"
      },
      "execution_count": null,
      "outputs": [
        {
          "output_type": "execute_result",
          "data": {
            "text/plain": [
              "(array([3, 6, 9]), array([3, 6, 9]))"
            ]
          },
          "metadata": {},
          "execution_count": 103
        }
      ]
    },
    {
      "cell_type": "markdown",
      "source": [
        "**ndarray객체.cumsum(), np.cumsum() : 누적합계**"
      ],
      "metadata": {
        "id": "cJa_tq2zxyOc"
      }
    },
    {
      "cell_type": "code",
      "source": [
        "a.cumsum, np.cumsum(a)"
      ],
      "metadata": {
        "colab": {
          "base_uri": "https://localhost:8080/"
        },
        "id": "5W7K6wCxx5EO",
        "outputId": "fc0c5cbc-2a28-41bb-ba6f-77f29902254a"
      },
      "execution_count": null,
      "outputs": [
        {
          "output_type": "execute_result",
          "data": {
            "text/plain": [
              "(<function ndarray.cumsum>, array([ 1,  3,  6, 10, 15, 21, 28, 36, 45]))"
            ]
          },
          "metadata": {},
          "execution_count": 106
        }
      ]
    },
    {
      "cell_type": "code",
      "source": [
        "# 열단위 계산\n",
        "a.cumsum(axis=0), np.cumsum(a, axis=0)"
      ],
      "metadata": {
        "colab": {
          "base_uri": "https://localhost:8080/"
        },
        "id": "1gY78zC1yJ8f",
        "outputId": "e8df9573-ea2d-4cf5-f587-eb91553e8910"
      },
      "execution_count": null,
      "outputs": [
        {
          "output_type": "execute_result",
          "data": {
            "text/plain": [
              "(array([[ 1,  2,  3],\n",
              "        [ 5,  7,  9],\n",
              "        [12, 15, 18]]),\n",
              " array([[ 1,  2,  3],\n",
              "        [ 5,  7,  9],\n",
              "        [12, 15, 18]]))"
            ]
          },
          "metadata": {},
          "execution_count": 108
        }
      ]
    },
    {
      "cell_type": "code",
      "source": [
        "# 행단위 계산\n",
        "a.cumsum(axis=1), np.cumsum(a, axis=1)"
      ],
      "metadata": {
        "colab": {
          "base_uri": "https://localhost:8080/"
        },
        "id": "3FwgwPbzyQ7w",
        "outputId": "4883ea1c-ef04-4994-904d-643eaa5d4ec5"
      },
      "execution_count": null,
      "outputs": [
        {
          "output_type": "execute_result",
          "data": {
            "text/plain": [
              "(array([[ 1,  3,  6],\n",
              "        [ 4,  9, 15],\n",
              "        [ 7, 15, 24]]),\n",
              " array([[ 1,  3,  6],\n",
              "        [ 4,  9, 15],\n",
              "        [ 7, 15, 24]]))"
            ]
          },
          "metadata": {},
          "execution_count": 109
        }
      ]
    },
    {
      "cell_type": "markdown",
      "source": [
        "**ndarray.mean(), np.mean(): 평균**"
      ],
      "metadata": {
        "id": "3nYryotGyqf7"
      }
    },
    {
      "cell_type": "markdown",
      "source": [
        "**ndarray.median() : 중위수**"
      ],
      "metadata": {
        "id": "wRCoPHLhyvbf"
      }
    },
    {
      "cell_type": "markdown",
      "source": [
        "**np.corrcoef_: 상관계수, correlation coefficient**"
      ],
      "metadata": {
        "id": "EclL1NyEy4Bs"
      }
    },
    {
      "cell_type": "code",
      "source": [
        "np.corrcoef(a)"
      ],
      "metadata": {
        "colab": {
          "base_uri": "https://localhost:8080/"
        },
        "id": "WWwupPoSzQ42",
        "outputId": "f1c7a90c-0250-4cd3-9923-ba4ffe3cec5f"
      },
      "execution_count": null,
      "outputs": [
        {
          "output_type": "execute_result",
          "data": {
            "text/plain": [
              "array([[1., 1., 1.],\n",
              "       [1., 1., 1.],\n",
              "       [1., 1., 1.]])"
            ]
          },
          "metadata": {},
          "execution_count": 113
        }
      ]
    },
    {
      "cell_type": "markdown",
      "source": [
        "**ndarray객체.std(), np.std(): 표준편차**"
      ],
      "metadata": {
        "id": "rH3UoGthziN6"
      }
    },
    {
      "cell_type": "markdown",
      "source": [
        "## 2.5 난수 기반 배열 생성\n",
        "- numpy.random 모듈 이용"
      ],
      "metadata": {
        "id": "IbRl56Tizo5r"
      }
    },
    {
      "cell_type": "markdown",
      "source": [
        "**np.random.normal**\n",
        "- normal(loc=0.0, scale=1.0, size=None)\n",
        "- 정규 분포 확률 밀도에서 표본 추출 함수\n",
        "- loc: 정규분포의 평균\n",
        "- scale: 표준편차\n"
      ],
      "metadata": {
        "id": "3HjVdmyA0ix-"
      }
    },
    {
      "cell_type": "code",
      "source": [
        "mean = 0\n",
        "std = 1\n",
        "a = np.random.normal(mean, std, (2,3))\n",
        "pprint(a)"
      ],
      "metadata": {
        "colab": {
          "base_uri": "https://localhost:8080/"
        },
        "id": "fryxGELk04Ng",
        "outputId": "6ca43e29-fdd3-4505-b83b-40f39bfb309c"
      },
      "execution_count": null,
      "outputs": [
        {
          "output_type": "stream",
          "name": "stdout",
          "text": [
            "type: <class 'numpy.ndarray'>\n",
            "shape:(2, 3), dimension:2, dtype:float64\n",
            "Array's Data: \n",
            " [[-1.73565154 -0.60846345  0.31766685]\n",
            " [-1.69384176  0.83106457 -0.82957766]]\n"
          ]
        }
      ]
    },
    {
      "cell_type": "code",
      "source": [
        "import matplotlib.pyplot as plt\n",
        "%matplotlib inline\n",
        "\n",
        "data = np.random.normal(0, 1, 10000)\n",
        "# 히스토그램, 100개의 구간으로 구분\n",
        "plt.hist(data, bins=100)\n",
        "plt.show()"
      ],
      "metadata": {
        "colab": {
          "base_uri": "https://localhost:8080/",
          "height": 430
        },
        "id": "CcEqlolx1BB7",
        "outputId": "c6a27d9b-f7d5-4d8f-9ff4-4d41dcd40424"
      },
      "execution_count": null,
      "outputs": [
        {
          "output_type": "display_data",
          "data": {
            "text/plain": [
              "<Figure size 640x480 with 1 Axes>"
            ],
            "image/png": "[encoded data removed]"
          },
          "metadata": {}
        }
      ]
    },
    {
      "cell_type": "markdown",
      "source": [
        "np.random.rand(): 균등분포, 0.0~1.0"
      ],
      "metadata": {
        "id": "oXFhP7Zy1wVs"
      }
    },
    {
      "cell_type": "code",
      "source": [
        "a = np.random.rand(3,2)\n",
        "pprint(a)"
      ],
      "metadata": {
        "colab": {
          "base_uri": "https://localhost:8080/"
        },
        "id": "5W19qG9p2Jq_",
        "outputId": "4b614e18-a1cf-48f0-c072-334b46f5800c"
      },
      "execution_count": null,
      "outputs": [
        {
          "output_type": "stream",
          "name": "stdout",
          "text": [
            "type: <class 'numpy.ndarray'>\n",
            "shape:(3, 2), dimension:2, dtype:float64\n",
            "Array's Data: \n",
            " [[0.03495333 0.0164823 ]\n",
            " [0.57564529 0.33230092]\n",
            " [0.927381   0.70054237]]\n"
          ]
        }
      ]
    },
    {
      "cell_type": "code",
      "source": [
        "data = np.random.rand(10000)\n",
        "plt.hist(data, bins=10)\n",
        "plt.show()"
      ],
      "metadata": {
        "colab": {
          "base_uri": "https://localhost:8080/",
          "height": 430
        },
        "id": "-QcOohix2Q1b",
        "outputId": "9634af02-ed77-4c26-c6b3-1d9eddf8023e"
      },
      "execution_count": null,
      "outputs": [
        {
          "output_type": "display_data",
          "data": {
            "text/plain": [
              "<Figure size 640x480 with 1 Axes>"
            ],
            "image/png": "[encoded data removed]"
          },
          "metadata": {}
        }
      ]
    },
    {
      "cell_type": "markdown",
      "source": [
        "**np.random.randn(): 표준 정규 분포**"
      ],
      "metadata": {
        "id": "i5zXXohb2Zhu"
      }
    },
    {
      "cell_type": "code",
      "source": [
        "a = np.random.randn(2,4)\n",
        "pprint(a)"
      ],
      "metadata": {
        "colab": {
          "base_uri": "https://localhost:8080/"
        },
        "id": "nyA72RVh2qH5",
        "outputId": "a73724c6-9a21-4dcd-cb70-023947b2a71d"
      },
      "execution_count": null,
      "outputs": [
        {
          "output_type": "stream",
          "name": "stdout",
          "text": [
            "type: <class 'numpy.ndarray'>\n",
            "shape:(2, 4), dimension:2, dtype:float64\n",
            "Array's Data: \n",
            " [[-0.51747585 -0.2818074   0.98433736 -1.15950651]\n",
            " [ 0.75354631 -1.63541872  0.54389746 -0.40248918]]\n"
          ]
        }
      ]
    },
    {
      "cell_type": "code",
      "source": [
        "data = np.random.randn(10000)\n",
        "plt.hist(data, bins=10)\n",
        "plt.show()"
      ],
      "metadata": {
        "colab": {
          "base_uri": "https://localhost:8080/",
          "height": 430
        },
        "id": "xmxJkswv2vpj",
        "outputId": "4643aa7d-9c96-483e-f2e7-25a67b52c7ee"
      },
      "execution_count": null,
      "outputs": [
        {
          "output_type": "display_data",
          "data": {
            "text/plain": [
              "<Figure size 640x480 with 1 Axes>"
            ],
            "image/png": "[encoded data removed]"
          },
          "metadata": {}
        }
      ]
    },
    {
      "cell_type": "markdown",
      "source": [
        "**np.random.randint(low,high,size,dtype='i')**"
      ],
      "metadata": {
        "id": "m-qM0UJu25tc"
      }
    },
    {
      "cell_type": "code",
      "source": [
        "a = np.random.randint(5, 10, size=(2,4))\n",
        "pprint(a)"
      ],
      "metadata": {
        "colab": {
          "base_uri": "https://localhost:8080/"
        },
        "id": "T_253c_13Y-h",
        "outputId": "e86f3eea-f101-4ac0-b8b0-047e6759869f"
      },
      "execution_count": null,
      "outputs": [
        {
          "output_type": "stream",
          "name": "stdout",
          "text": [
            "type: <class 'numpy.ndarray'>\n",
            "shape:(2, 4), dimension:2, dtype:int64\n",
            "Array's Data: \n",
            " [[9 5 6 6]\n",
            " [9 8 7 7]]\n"
          ]
        }
      ]
    },
    {
      "cell_type": "code",
      "source": [
        "data = np.random.randint(-100, 100, 10000)\n",
        "plt.hist(data, bins=10)"
      ],
      "metadata": {
        "colab": {
          "base_uri": "https://localhost:8080/",
          "height": 522
        },
        "id": "vNterxN73mfl",
        "outputId": "e49f40ba-d2c7-439f-d835-f823995a3205"
      },
      "execution_count": null,
      "outputs": [
        {
          "output_type": "execute_result",
          "data": {
            "text/plain": [
              "(array([ 997., 1010., 1026.,  962.,  988., 1012., 1006.,  961.,  955.,\n",
              "        1083.]),\n",
              " array([-100. ,  -80.1,  -60.2,  -40.3,  -20.4,   -0.5,   19.4,   39.3,\n",
              "          59.2,   79.1,   99. ]),\n",
              " <BarContainer object of 10 artists>)"
            ]
          },
          "metadata": {},
          "execution_count": 127
        },
        {
          "output_type": "display_data",
          "data": {
            "text/plain": [
              "<Figure size 640x480 with 1 Axes>"
            ],
            "image/png": "[encoded data removed]"
          },
          "metadata": {}
        }
      ]
    },
    {
      "cell_type": "markdown",
      "source": [
        "**np.random.random(): 0.0~1.0 균등분포 난수"
      ],
      "metadata": {
        "id": "If5axk5-3v9D"
      }
    },
    {
      "cell_type": "code",
      "source": [
        "a = np.random.random((2,4))\n",
        "pprint(a)"
      ],
      "metadata": {
        "colab": {
          "base_uri": "https://localhost:8080/"
        },
        "id": "uigZsZPZ3_Ro",
        "outputId": "2cee39ce-5073-48da-de40-63d103581d78"
      },
      "execution_count": null,
      "outputs": [
        {
          "output_type": "stream",
          "name": "stdout",
          "text": [
            "type: <class 'numpy.ndarray'>\n",
            "shape:(2, 4), dimension:2, dtype:float64\n",
            "Array's Data: \n",
            " [[0.46006597 0.09258474 0.29280675 0.48447847]\n",
            " [0.33351826 0.7191653  0.37708963 0.17179522]]\n"
          ]
        }
      ]
    },
    {
      "cell_type": "markdown",
      "source": [
        "**약속된 난수: seed값**\n",
        "- np.random.seed(): 난수를 재연할 수 있다.\n",
        "- 시드값으로 0보다 크거나 같은 정수를 담는다."
      ],
      "metadata": {
        "id": "jyFE4Cm54GJN"
      }
    },
    {
      "cell_type": "code",
      "source": [
        "np.random.random((2,2))"
      ],
      "metadata": {
        "colab": {
          "base_uri": "https://localhost:8080/"
        },
        "id": "E8A5R_dC4YMj",
        "outputId": "6214fa7a-3b1d-4403-8206-280e2fc1b168"
      },
      "execution_count": null,
      "outputs": [
        {
          "output_type": "execute_result",
          "data": {
            "text/plain": [
              "array([[0.07157165, 0.28770701],\n",
              "       [0.87618897, 0.81329929]])"
            ]
          },
          "metadata": {},
          "execution_count": 130
        }
      ]
    },
    {
      "cell_type": "code",
      "source": [
        "np.random.randint(0,10,(2,3))"
      ],
      "metadata": {
        "colab": {
          "base_uri": "https://localhost:8080/"
        },
        "id": "1W6ktX7R4mMu",
        "outputId": "5442e320-cfd8-4ced-9d39-a5b047d4862d"
      },
      "execution_count": null,
      "outputs": [
        {
          "output_type": "execute_result",
          "data": {
            "text/plain": [
              "array([[0, 9, 3],\n",
              "       [7, 2, 6]])"
            ]
          },
          "metadata": {},
          "execution_count": 131
        }
      ]
    },
    {
      "cell_type": "code",
      "source": [
        "np.random.seed(2023)"
      ],
      "metadata": {
        "id": "tKak4i7a4q5z"
      },
      "execution_count": null,
      "outputs": []
    },
    {
      "cell_type": "code",
      "source": [
        "np.random.random((2,2))"
      ],
      "metadata": {
        "colab": {
          "base_uri": "https://localhost:8080/"
        },
        "id": "fTQ5gDdn5HR1",
        "outputId": "8406f135-f4a9-4b99-c27d-c201a7ce72ad"
      },
      "execution_count": null,
      "outputs": [
        {
          "output_type": "execute_result",
          "data": {
            "text/plain": [
              "array([[0.3219883 , 0.89042245],\n",
              "       [0.58805226, 0.12659609]])"
            ]
          },
          "metadata": {},
          "execution_count": 133
        }
      ]
    },
    {
      "cell_type": "code",
      "source": [
        "np.random.randint(0,10,(2,3))\n"
      ],
      "metadata": {
        "colab": {
          "base_uri": "https://localhost:8080/"
        },
        "id": "bSsbC1wG5KlD",
        "outputId": "c057ecc7-75b5-4486-8608-928119a6654f"
      },
      "execution_count": null,
      "outputs": [
        {
          "output_type": "execute_result",
          "data": {
            "text/plain": [
              "array([[5, 0, 6],\n",
              "       [1, 5, 7]])"
            ]
          },
          "metadata": {},
          "execution_count": 135
        }
      ]
    },
    {
      "cell_type": "code",
      "source": [
        "np.random.seed(2023)"
      ],
      "metadata": {
        "id": "2AD1Eiqy5QMT"
      },
      "execution_count": null,
      "outputs": []
    },
    {
      "cell_type": "code",
      "source": [
        "np.random.random((2,2))"
      ],
      "metadata": {
        "colab": {
          "base_uri": "https://localhost:8080/"
        },
        "id": "hHzW_sWS5UlT",
        "outputId": "99ab232f-93d5-4331-a89d-23edcba0297f"
      },
      "execution_count": null,
      "outputs": [
        {
          "output_type": "execute_result",
          "data": {
            "text/plain": [
              "array([[0.3219883 , 0.89042245],\n",
              "       [0.58805226, 0.12659609]])"
            ]
          },
          "metadata": {},
          "execution_count": 137
        }
      ]
    },
    {
      "cell_type": "code",
      "source": [
        "np.random.randint(0, 10, (2,3))"
      ],
      "metadata": {
        "colab": {
          "base_uri": "https://localhost:8080/"
        },
        "id": "-iUQQjNM5ZCr",
        "outputId": "2af1ac69-7f21-4a3f-f508-9b5bd0a9df1f"
      },
      "execution_count": null,
      "outputs": [
        {
          "output_type": "execute_result",
          "data": {
            "text/plain": [
              "array([[4, 6, 5],\n",
              "       [0, 6, 1]])"
            ]
          },
          "metadata": {},
          "execution_count": 138
        }
      ]
    },
    {
      "cell_type": "markdown",
      "source": [
        "## Numpy 입출력\n",
        "- Numpy는 배열 객체를 바이너리 파일 혹은 텍스트 파일에 저장하고 로딩하는 기능을 제공한다.\n",
        "- np.save(): Numpy 배열 객체 1개를 파일에 저장, 바이너리 포맷\n",
        "- np.savez(): Numpy 배열 객체 복수개를 파일에 저장, 바이너리 포맷\n",
        "- np.load(): Numpy 배열 저장 파일로부터 객체 로딩, 바이너리 포맷\n",
        "- np.loadtxt(): 텍스트 파일로부터 배열 로딩, 텍스트 포맷\n",
        "= np.savetxt(): 텍스트 파일에 Numpy 배열 객체 저장, 텍스트 포맷"
      ],
      "metadata": {
        "id": "4GrgjAKT-A7_"
      }
    },
    {
      "cell_type": "code",
      "source": [
        "a = np.random.randint(0, 10, (2,3))\n",
        "b = np.random.randint(0, 10, (2,3))\n",
        "pprint(a)\n",
        "pprint(b)"
      ],
      "metadata": {
        "colab": {
          "base_uri": "https://localhost:8080/"
        },
        "id": "iw8XNzVE-nwJ",
        "outputId": "55fed23f-9b2a-4c5a-87a4-e4210225021a"
      },
      "execution_count": null,
      "outputs": [
        {
          "output_type": "stream",
          "name": "stdout",
          "text": [
            "type: <class 'numpy.ndarray'>\n",
            "shape:(2, 3), dimension:2, dtype:int64\n",
            "Array's Data: \n",
            " [[5 7 5]\n",
            " [8 2 3]]\n",
            "type: <class 'numpy.ndarray'>\n",
            "shape:(2, 3), dimension:2, dtype:int64\n",
            "Array's Data: \n",
            " [[1 0 7]\n",
            " [1 0 0]]\n"
          ]
        }
      ]
    },
    {
      "cell_type": "markdown",
      "source": [
        "**배열 객체 저장**\n",
        "- np.save()와 np.savez() 함수를 이용\n",
        "- np.save: 1개 배열 저장, 확장자: npy\n",
        "- np.savez: 복수개의 배열 저징, 확장자: pnz\n",
        "- 배열에 저장되는 파일의 포맷은 바이너리 형태이다."
      ],
      "metadata": {
        "id": "1HDHm3-o--N6"
      }
    },
    {
      "cell_type": "code",
      "source": [
        "# 1개 배열 파일을 저장하는 작업\n",
        "np.save(\"./my_array1\", a) # a라는 배열을 my_array1이라는 이름으로 저장했음"
      ],
      "metadata": {
        "id": "Xa5nBhMh_rYF"
      },
      "execution_count": null,
      "outputs": []
    },
    {
      "cell_type": "code",
      "source": [
        "# 복수개의 배열 객체를 파일에 저장\n",
        "np.savez('my_array2',a,b)"
      ],
      "metadata": {
        "id": "NTW_3i1CA2aX"
      },
      "execution_count": null,
      "outputs": []
    },
    {
      "cell_type": "markdown",
      "source": [
        "**파일로부터 배열 객체를 로딩**\n",
        "- npy, npz는 np.load() 함수로 읽어온다"
      ],
      "metadata": {
        "id": "SftmZJS_Baqg"
      }
    },
    {
      "cell_type": "code",
      "source": [
        "np.load('my_array1.npy') # 확장자를 반드시 담아와야함"
      ],
      "metadata": {
        "colab": {
          "base_uri": "https://localhost:8080/"
        },
        "id": "haZcV2wBBi8W",
        "outputId": "f75aa022-9a81-4e25-e138-5c51439dcf22"
      },
      "execution_count": null,
      "outputs": [
        {
          "output_type": "execute_result",
          "data": {
            "text/plain": [
              "array([[5, 7, 5],\n",
              "       [8, 2, 3]])"
            ]
          },
          "metadata": {},
          "execution_count": 143
        }
      ]
    },
    {
      "cell_type": "code",
      "source": [
        "file = np.load('my_array2.npz')\n",
        "file.files"
      ],
      "metadata": {
        "colab": {
          "base_uri": "https://localhost:8080/"
        },
        "id": "fWZVRbe4BqLZ",
        "outputId": "5dc528d1-8dcd-4d3a-8ceb-ef99eca49241"
      },
      "execution_count": null,
      "outputs": [
        {
          "output_type": "execute_result",
          "data": {
            "text/plain": [
              "['arr_0', 'arr_1']"
            ]
          },
          "metadata": {},
          "execution_count": 179
        }
      ]
    },
    {
      "cell_type": "code",
      "source": [
        "file['arr_0']"
      ],
      "metadata": {
        "colab": {
          "base_uri": "https://localhost:8080/"
        },
        "id": "UbIgHCUiB8ds",
        "outputId": "c0318b03-bba8-4016-ea25-98878d3940f2"
      },
      "execution_count": null,
      "outputs": [
        {
          "output_type": "execute_result",
          "data": {
            "text/plain": [
              "array([[1, 2, 3],\n",
              "       [4, 5, 6],\n",
              "       [7, 8, 9]])"
            ]
          },
          "metadata": {},
          "execution_count": 180
        }
      ]
    },
    {
      "cell_type": "code",
      "source": [
        "file['arr_1']"
      ],
      "metadata": {
        "colab": {
          "base_uri": "https://localhost:8080/"
        },
        "id": "5p257_NCCGHd",
        "outputId": "d0781777-6ded-40f1-92d4-c2234adeba48"
      },
      "execution_count": null,
      "outputs": [
        {
          "output_type": "execute_result",
          "data": {
            "text/plain": [
              "array([[10, 11, 12],\n",
              "       [13, 14, 15],\n",
              "       [16, 17, 18]])"
            ]
          },
          "metadata": {},
          "execution_count": 181
        }
      ]
    },
    {
      "cell_type": "markdown",
      "source": [
        "## 배열 변환\n",
        "- 전치(Transpose)\n",
        "- 배열 shape 변환: reshape\n",
        "- 배열 요소 추가\n",
        "- 배열 결합\n",
        "- 배열 분리"
      ],
      "metadata": {
        "id": "4mZrgoW_Ct7D"
      }
    },
    {
      "cell_type": "markdown",
      "source": [
        "**np.ndarray객체.T**"
      ],
      "metadata": {
        "id": "bS9KOIoUC7fx"
      }
    },
    {
      "cell_type": "code",
      "source": [
        "a= np.random.randint(1, 10, (2,3))\n",
        "pprint(a)"
      ],
      "metadata": {
        "colab": {
          "base_uri": "https://localhost:8080/"
        },
        "id": "gg4Ji3MPC-dv",
        "outputId": "a1ff2dac-334b-45a1-b34f-7273460fd85d"
      },
      "execution_count": null,
      "outputs": [
        {
          "output_type": "stream",
          "name": "stdout",
          "text": [
            "type: <class 'numpy.ndarray'>\n",
            "shape:(2, 3), dimension:2, dtype:int64\n",
            "Array's Data: \n",
            " [[2 9 2]\n",
            " [3 2 1]]\n"
          ]
        }
      ]
    },
    {
      "cell_type": "code",
      "source": [
        "pprint(a.T)"
      ],
      "metadata": {
        "colab": {
          "base_uri": "https://localhost:8080/"
        },
        "id": "6LSHUY7WDRPi",
        "outputId": "148c12d2-5496-4109-92c6-2b00cb321349"
      },
      "execution_count": null,
      "outputs": [
        {
          "output_type": "stream",
          "name": "stdout",
          "text": [
            "type: <class 'numpy.ndarray'>\n",
            "shape:(3, 2), dimension:2, dtype:int64\n",
            "Array's Data: \n",
            " [[2 3]\n",
            " [9 2]\n",
            " [2 1]]\n"
          ]
        }
      ]
    },
    {
      "cell_type": "markdown",
      "source": [
        "**배열 형태 변경**\n",
        "\n",
        "- ravel: shape를 1차원 배열로 만드는 메써드\n",
        "- reshape: 데이터 변경없이 지정된 shape로 변환하는 메써드"
      ],
      "metadata": {
        "id": "9lMHKpcZDdej"
      }
    },
    {
      "cell_type": "code",
      "source": [
        "pprint(a)"
      ],
      "metadata": {
        "colab": {
          "base_uri": "https://localhost:8080/"
        },
        "id": "I9FLP2D0DgZk",
        "outputId": "375b6fad-0d14-4c0e-f47e-e8f7154161de"
      },
      "execution_count": null,
      "outputs": [
        {
          "output_type": "stream",
          "name": "stdout",
          "text": [
            "type: <class 'numpy.ndarray'>\n",
            "shape:(2, 3), dimension:2, dtype:int64\n",
            "Array's Data: \n",
            " [[2 9 2]\n",
            " [3 2 1]]\n"
          ]
        }
      ]
    },
    {
      "cell_type": "code",
      "source": [
        "b = a.ravel()\n",
        "pprint(b)"
      ],
      "metadata": {
        "colab": {
          "base_uri": "https://localhost:8080/"
        },
        "id": "LEAxITuKD1sB",
        "outputId": "92c71316-50dc-456c-cf4a-ed15637670a7"
      },
      "execution_count": null,
      "outputs": [
        {
          "output_type": "stream",
          "name": "stdout",
          "text": [
            "type: <class 'numpy.ndarray'>\n",
            "shape:(6,), dimension:1, dtype:int64\n",
            "Array's Data: \n",
            " [2 9 2 3 2 1]\n"
          ]
        }
      ]
    },
    {
      "cell_type": "code",
      "source": [
        "# 반환된 배열의 데이터가 변경되면 원본도 변경된다.\n",
        "b[0] = 99\n",
        "pprint(b)"
      ],
      "metadata": {
        "colab": {
          "base_uri": "https://localhost:8080/"
        },
        "id": "jQlc2GvID4fg",
        "outputId": "ba907ef1-a4b0-4d4b-f6d5-0535cdfa7300"
      },
      "execution_count": null,
      "outputs": [
        {
          "output_type": "stream",
          "name": "stdout",
          "text": [
            "type: <class 'numpy.ndarray'>\n",
            "shape:(6,), dimension:1, dtype:int64\n",
            "Array's Data: \n",
            " [99  9  2  3  2  1]\n"
          ]
        }
      ]
    },
    {
      "cell_type": "code",
      "source": [
        "pprint(a)"
      ],
      "metadata": {
        "colab": {
          "base_uri": "https://localhost:8080/"
        },
        "id": "M58Kdx5cEUQf",
        "outputId": "6b6674d5-fff1-47fa-9871-cbc95e9eee7a"
      },
      "execution_count": null,
      "outputs": [
        {
          "output_type": "stream",
          "name": "stdout",
          "text": [
            "type: <class 'numpy.ndarray'>\n",
            "shape:(2, 3), dimension:2, dtype:int64\n",
            "Array's Data: \n",
            " [[99  9  2]\n",
            " [ 3  2  1]]\n"
          ]
        }
      ]
    },
    {
      "cell_type": "code",
      "source": [
        "a = np.random.randint(1, 10, (2,3))\n",
        "pprint(a)"
      ],
      "metadata": {
        "colab": {
          "base_uri": "https://localhost:8080/"
        },
        "id": "GR6Ml6nVEWpS",
        "outputId": "8b97fceb-91d5-4f5d-8d87-f9abe3ca4d1d"
      },
      "execution_count": null,
      "outputs": [
        {
          "output_type": "stream",
          "name": "stdout",
          "text": [
            "type: <class 'numpy.ndarray'>\n",
            "shape:(2, 3), dimension:2, dtype:int64\n",
            "Array's Data: \n",
            " [[2 6 7]\n",
            " [5 7 9]]\n"
          ]
        }
      ]
    },
    {
      "cell_type": "code",
      "source": [
        "result = a.reshape((3,2,1))\n",
        "pprint(result)"
      ],
      "metadata": {
        "colab": {
          "base_uri": "https://localhost:8080/"
        },
        "id": "cL7_A9PoEpjP",
        "outputId": "3efe6b3c-578e-4a56-a3d2-7a475b299f97"
      },
      "execution_count": null,
      "outputs": [
        {
          "output_type": "stream",
          "name": "stdout",
          "text": [
            "type: <class 'numpy.ndarray'>\n",
            "shape:(3, 2, 1), dimension:3, dtype:int64\n",
            "Array's Data: \n",
            " [[[2]\n",
            "  [6]]\n",
            "\n",
            " [[7]\n",
            "  [5]]\n",
            "\n",
            " [[7]\n",
            "  [9]]]\n"
          ]
        }
      ]
    },
    {
      "cell_type": "markdown",
      "source": [
        "**배열 요소 변경, 추가, 삽입 및 삭제는 resize, append, insert, delete 함수를 사용***\n",
        "\n",
        "- np.reshape와 np.resize 함수는 배열의 shape를 변경한다는 부분은 유사하다.\n",
        "- 차이점은 reshape는 배열 요소 수를 변경하지 않는다.\n",
        "- 반면, resize는 배열의 요소 수를 줄이거나 늘리는 함수"
      ],
      "metadata": {
        "id": "N2J4PewHEwLT"
      }
    },
    {
      "cell_type": "code",
      "source": [
        "a = np.random.randint(1,10,(2,6))\n",
        "pprint(a)\n",
        "print(a.size)"
      ],
      "metadata": {
        "colab": {
          "base_uri": "https://localhost:8080/"
        },
        "id": "YebrjkbyFCBH",
        "outputId": "d15093d1-971e-4124-d053-7de6c158076d"
      },
      "execution_count": null,
      "outputs": [
        {
          "output_type": "stream",
          "name": "stdout",
          "text": [
            "type: <class 'numpy.ndarray'>\n",
            "shape:(2, 6), dimension:2, dtype:int64\n",
            "Array's Data: \n",
            " [[4 9 6 6 8 4]\n",
            " [8 7 8 4 4 7]]\n",
            "12\n"
          ]
        }
      ]
    },
    {
      "cell_type": "code",
      "source": [
        "a.resize((6,2))\n",
        "pprint(a)\n"
      ],
      "metadata": {
        "colab": {
          "base_uri": "https://localhost:8080/"
        },
        "id": "6l9c42f3Ft3V",
        "outputId": "ea5ecb5e-5696-4a33-a8c8-a67a1e1786f2"
      },
      "execution_count": null,
      "outputs": [
        {
          "output_type": "stream",
          "name": "stdout",
          "text": [
            "type: <class 'numpy.ndarray'>\n",
            "shape:(6, 2), dimension:2, dtype:int64\n",
            "Array's Data: \n",
            " [[4 9]\n",
            " [6 6]\n",
            " [8 4]\n",
            " [8 7]\n",
            " [8 4]\n",
            " [4 7]]\n"
          ]
        }
      ]
    },
    {
      "cell_type": "code",
      "source": [
        "a = np.random.randint(1,10,(2,6))\n",
        "pprint(a)"
      ],
      "metadata": {
        "colab": {
          "base_uri": "https://localhost:8080/"
        },
        "id": "NZECiFReI-NE",
        "outputId": "d9e8b252-7de2-43c2-d83a-3f53b5a693ed"
      },
      "execution_count": null,
      "outputs": [
        {
          "output_type": "stream",
          "name": "stdout",
          "text": [
            "type: <class 'numpy.ndarray'>\n",
            "shape:(2, 6), dimension:2, dtype:int64\n",
            "Array's Data: \n",
            " [[6 5 9 6 3 6]\n",
            " [2 3 9 7 8 7]]\n"
          ]
        }
      ]
    },
    {
      "cell_type": "code",
      "source": [
        "a.resize((2,10))\n",
        "pprint(a) # 늘어난 요소는 0으로 채워진다."
      ],
      "metadata": {
        "colab": {
          "base_uri": "https://localhost:8080/",
          "height": 203
        },
        "id": "KOk7UXeBGBAs",
        "outputId": "bed60e13-2410-4c00-b300-0f714ce9eefc"
      },
      "execution_count": null,
      "outputs": [
        {
          "output_type": "error",
          "ename": "AttributeError",
          "evalue": "ignored",
          "traceback": [
            "\u001b[0;31m---------------------------------------------------------------------------\u001b[0m",
            "\u001b[0;31mAttributeError\u001b[0m                            Traceback (most recent call last)",
            "\u001b[0;32m<ipython-input-185-57b6cfde6bed>\u001b[0m in \u001b[0;36m<cell line: 1>\u001b[0;34m()\u001b[0m\n\u001b[0;32m----> 1\u001b[0;31m \u001b[0ma\u001b[0m\u001b[0;34m.\u001b[0m\u001b[0mnp\u001b[0m\u001b[0;34m.\u001b[0m\u001b[0mresize\u001b[0m\u001b[0;34m(\u001b[0m\u001b[0;34m(\u001b[0m\u001b[0;36m2\u001b[0m\u001b[0;34m,\u001b[0m\u001b[0;36m10\u001b[0m\u001b[0;34m)\u001b[0m\u001b[0;34m)\u001b[0m\u001b[0;34m\u001b[0m\u001b[0;34m\u001b[0m\u001b[0m\n\u001b[0m\u001b[1;32m      2\u001b[0m \u001b[0mpprint\u001b[0m\u001b[0;34m(\u001b[0m\u001b[0ma\u001b[0m\u001b[0;34m)\u001b[0m \u001b[0;31m# 늘어난 요소는 0으로 채워진다.\u001b[0m\u001b[0;34m\u001b[0m\u001b[0;34m\u001b[0m\u001b[0m\n",
            "\u001b[0;31mAttributeError\u001b[0m: 'numpy.ndarray' object has no attribute 'np'"
          ]
        }
      ]
    },
    {
      "cell_type": "code",
      "source": [
        "a = np.random.randint(1,10,(2,6))\n",
        "pprint(a)"
      ],
      "metadata": {
        "colab": {
          "base_uri": "https://localhost:8080/"
        },
        "id": "3MNnbWgdGG6j",
        "outputId": "5f8bc919-c68f-44a9-9491-8a85b54145eb"
      },
      "execution_count": null,
      "outputs": [
        {
          "output_type": "stream",
          "name": "stdout",
          "text": [
            "type: <class 'numpy.ndarray'>\n",
            "shape:(2, 6), dimension:2, dtype:int64\n",
            "Array's Data: \n",
            " [[5 4 4 8 3 9]\n",
            " [7 5 3 2 6 4]]\n"
          ]
        }
      ]
    },
    {
      "cell_type": "code",
      "source": [
        "a.resize((3,3))\n",
        "pprint(a)"
      ],
      "metadata": {
        "colab": {
          "base_uri": "https://localhost:8080/",
          "height": 239
        },
        "id": "Op7TQP6iGTHD",
        "outputId": "ca9d48ef-0c90-48d8-cdb8-68ca9586147e"
      },
      "execution_count": null,
      "outputs": [
        {
          "output_type": "error",
          "ename": "ValueError",
          "evalue": "ignored",
          "traceback": [
            "\u001b[0;31m---------------------------------------------------------------------------\u001b[0m",
            "\u001b[0;31mValueError\u001b[0m                                Traceback (most recent call last)",
            "\u001b[0;32m<ipython-input-168-c24a65422d5b>\u001b[0m in \u001b[0;36m<cell line: 1>\u001b[0;34m()\u001b[0m\n\u001b[0;32m----> 1\u001b[0;31m \u001b[0ma\u001b[0m\u001b[0;34m.\u001b[0m\u001b[0mresize\u001b[0m\u001b[0;34m(\u001b[0m\u001b[0;34m(\u001b[0m\u001b[0;36m3\u001b[0m\u001b[0;34m,\u001b[0m\u001b[0;36m3\u001b[0m\u001b[0;34m)\u001b[0m\u001b[0;34m)\u001b[0m\u001b[0;34m\u001b[0m\u001b[0;34m\u001b[0m\u001b[0m\n\u001b[0m\u001b[1;32m      2\u001b[0m \u001b[0mpprint\u001b[0m\u001b[0;34m(\u001b[0m\u001b[0ma\u001b[0m\u001b[0;34m)\u001b[0m\u001b[0;34m\u001b[0m\u001b[0;34m\u001b[0m\u001b[0m\n",
            "\u001b[0;31mValueError\u001b[0m: cannot resize an array that references or is referenced\nby another array in this way.\nUse the np.resize function or refcheck=False"
          ]
        }
      ]
    },
    {
      "cell_type": "markdown",
      "source": [
        "**append(arr, values, axis=None): 배열의 끝에 값을 추가**"
      ],
      "metadata": {
        "id": "40CjOLk5GW8J"
      }
    },
    {
      "cell_type": "code",
      "source": [
        "a = np.arange(1,10).reshape(3,3)\n",
        "pprint(a)\n",
        "b = np.arange(10,19).reshape(3,3)\n",
        "pprint(b)"
      ],
      "metadata": {
        "colab": {
          "base_uri": "https://localhost:8080/"
        },
        "id": "G09u4EY3Gvle",
        "outputId": "03bf1eb4-804b-41a9-f886-c3e822aa554d"
      },
      "execution_count": null,
      "outputs": [
        {
          "output_type": "stream",
          "name": "stdout",
          "text": [
            "type: <class 'numpy.ndarray'>\n",
            "shape:(3, 3), dimension:2, dtype:int64\n",
            "Array's Data: \n",
            " [[1 2 3]\n",
            " [4 5 6]\n",
            " [7 8 9]]\n",
            "type: <class 'numpy.ndarray'>\n",
            "shape:(3, 3), dimension:2, dtype:int64\n",
            "Array's Data: \n",
            " [[10 11 12]\n",
            " [13 14 15]\n",
            " [16 17 18]]\n"
          ]
        }
      ]
    },
    {
      "cell_type": "code",
      "source": [
        "# axis를 지정하지 않으면 배열은 1차원 배열로 변형되어 결합된다.\n",
        "result = np.append(a,b)\n",
        "pprint(result)"
      ],
      "metadata": {
        "colab": {
          "base_uri": "https://localhost:8080/"
        },
        "id": "d1e4BfS_G5OE",
        "outputId": "8df45b58-e61f-4b1f-d7d6-621f549063a6"
      },
      "execution_count": null,
      "outputs": [
        {
          "output_type": "stream",
          "name": "stdout",
          "text": [
            "type: <class 'numpy.ndarray'>\n",
            "shape:(18,), dimension:1, dtype:int64\n",
            "Array's Data: \n",
            " [ 1  2  3  4  5  6  7  8  9 10 11 12 13 14 15 16 17 18]\n"
          ]
        }
      ]
    },
    {
      "cell_type": "code",
      "source": [
        "pprint(a)"
      ],
      "metadata": {
        "colab": {
          "base_uri": "https://localhost:8080/"
        },
        "id": "_xzf6SvqHMQe",
        "outputId": "34a10c1f-337c-4339-baeb-2bc5e3fa1ca6"
      },
      "execution_count": null,
      "outputs": [
        {
          "output_type": "stream",
          "name": "stdout",
          "text": [
            "type: <class 'numpy.ndarray'>\n",
            "shape:(3, 3), dimension:2, dtype:int64\n",
            "Array's Data: \n",
            " [[1 2 3]\n",
            " [4 5 6]\n",
            " [7 8 9]]\n"
          ]
        }
      ]
    },
    {
      "cell_type": "code",
      "source": [
        "# axis=0 지정\n",
        "result = np.append(a,b,axis=0)\n",
        "pprint(result)"
      ],
      "metadata": {
        "colab": {
          "base_uri": "https://localhost:8080/"
        },
        "id": "QeTcAH65HVW3",
        "outputId": "0aaa2a05-91df-4898-d0b9-c973164181bc"
      },
      "execution_count": null,
      "outputs": [
        {
          "output_type": "stream",
          "name": "stdout",
          "text": [
            "type: <class 'numpy.ndarray'>\n",
            "shape:(6, 3), dimension:2, dtype:int64\n",
            "Array's Data: \n",
            " [[ 1  2  3]\n",
            " [ 4  5  6]\n",
            " [ 7  8  9]\n",
            " [10 11 12]\n",
            " [13 14 15]\n",
            " [16 17 18]]\n"
          ]
        }
      ]
    },
    {
      "cell_type": "code",
      "source": [
        "# axis=1 지정"
      ],
      "metadata": {
        "id": "MJ1fu3dvH0tn"
      },
      "execution_count": null,
      "outputs": []
    },
    {
      "cell_type": "markdown",
      "source": [
        "**insert(arr, obj, values, axis=Npne)**\n",
        "- axis를 지정하지 않으면 1차원 배열로 반환된다.\n",
        "- 추가할 방향을 axis로 지정한다."
      ],
      "metadata": {
        "id": "-uXngT3VLQFc"
      }
    },
    {
      "cell_type": "code",
      "source": [
        "a = np.arange(1, 10).reshape(3,3)\n",
        "pprint(a)"
      ],
      "metadata": {
        "colab": {
          "base_uri": "https://localhost:8080/"
        },
        "id": "1Bzm7v4YLhqJ",
        "outputId": "2ea0f674-b976-4ba5-ae84-2bee46025c4c"
      },
      "execution_count": null,
      "outputs": [
        {
          "output_type": "stream",
          "name": "stdout",
          "text": [
            "type: <class 'numpy.ndarray'>\n",
            "shape:(3, 3), dimension:2, dtype:int64\n",
            "Array's Data: \n",
            " [[1 2 3]\n",
            " [4 5 6]\n",
            " [7 8 9]]\n"
          ]
        }
      ]
    },
    {
      "cell_type": "code",
      "source": [
        "np.insert(a, 1, 999)"
      ],
      "metadata": {
        "colab": {
          "base_uri": "https://localhost:8080/"
        },
        "id": "-O53q82kLoOh",
        "outputId": "eea56013-a826-43ed-e82e-25cd6a1a9e8a"
      },
      "execution_count": null,
      "outputs": [
        {
          "output_type": "execute_result",
          "data": {
            "text/plain": [
              "array([  1, 999,   2,   3,   4,   5,   6,   7,   8,   9])"
            ]
          },
          "metadata": {},
          "execution_count": 190
        }
      ]
    },
    {
      "cell_type": "code",
      "source": [
        "# a 배열의 axis는 0 방향으로 1번 인덱스에 추가하는 작업\n",
        "# index가 1인 row에 값을 999가 추가되도록 수정\n",
        "np.insert(a, 1, 999, axis=0)"
      ],
      "metadata": {
        "colab": {
          "base_uri": "https://localhost:8080/"
        },
        "id": "7n8XA0OLLsLL",
        "outputId": "1d42ddec-f852-4207-e2d8-8c210f1d352f"
      },
      "execution_count": null,
      "outputs": [
        {
          "output_type": "execute_result",
          "data": {
            "text/plain": [
              "array([[  1,   2,   3],\n",
              "       [999, 999, 999],\n",
              "       [  4,   5,   6],\n",
              "       [  7,   8,   9]])"
            ]
          },
          "metadata": {},
          "execution_count": 191
        }
      ]
    },
    {
      "cell_type": "code",
      "source": [
        "np.insert(a,1,999, axis=1)"
      ],
      "metadata": {
        "colab": {
          "base_uri": "https://localhost:8080/"
        },
        "id": "SknnVbhzMcxv",
        "outputId": "0a86de48-e42a-48db-ebc0-d199b719d526"
      },
      "execution_count": null,
      "outputs": [
        {
          "output_type": "execute_result",
          "data": {
            "text/plain": [
              "array([[  1, 999,   2,   3],\n",
              "       [  4, 999,   5,   6],\n",
              "       [  7, 999,   8,   9]])"
            ]
          },
          "metadata": {},
          "execution_count": 192
        }
      ]
    },
    {
      "cell_type": "markdown",
      "source": [
        "**delete(arr, obj, axis=None)***\n",
        "- axis를 지정하지 않으면 1차원 배열로 변환\n",
        "- 삭제할 방향을 axis로 지정\n",
        "- delete함수는 원본 배열을 변경하지 않으며 새로운 배열을 변환"
      ],
      "metadata": {
        "id": "c6YCziLBMhYJ"
      }
    },
    {
      "cell_type": "code",
      "source": [
        "# a 배열의 일차원 배열로 변환하고 1번 index 삭제\n",
        "np.delete(a, 1)"
      ],
      "metadata": {
        "colab": {
          "base_uri": "https://localhost:8080/"
        },
        "id": "gs871KW7MyFK",
        "outputId": "1714184e-7975-4d44-ba79-5acf0c332d9a"
      },
      "execution_count": null,
      "outputs": [
        {
          "output_type": "execute_result",
          "data": {
            "text/plain": [
              "array([1, 3, 4, 5, 6, 7, 8, 9])"
            ]
          },
          "metadata": {},
          "execution_count": 193
        }
      ]
    },
    {
      "cell_type": "code",
      "source": [
        "np.delete(a, 1, axis=0)"
      ],
      "metadata": {
        "colab": {
          "base_uri": "https://localhost:8080/"
        },
        "id": "diTI8I-_M52C",
        "outputId": "15e7bc70-fa36-459b-bea8-776d37cc9271"
      },
      "execution_count": null,
      "outputs": [
        {
          "output_type": "execute_result",
          "data": {
            "text/plain": [
              "array([[1, 2, 3],\n",
              "       [7, 8, 9]])"
            ]
          },
          "metadata": {},
          "execution_count": 194
        }
      ]
    },
    {
      "cell_type": "code",
      "source": [
        "np.delete(a, 1, axis=1)"
      ],
      "metadata": {
        "colab": {
          "base_uri": "https://localhost:8080/"
        },
        "id": "fiozBueZM87F",
        "outputId": "cf14fbba-7e4f-4aab-eb82-edacdbc21e37"
      },
      "execution_count": null,
      "outputs": [
        {
          "output_type": "execute_result",
          "data": {
            "text/plain": [
              "array([[1, 3],\n",
              "       [4, 6],\n",
              "       [7, 9]])"
            ]
          },
          "metadata": {},
          "execution_count": 195
        }
      ]
    },
    {
      "cell_type": "markdown",
      "source": [
        "**배열의 결합**\n",
        "- np.concatenate((arr1, arr2, ...), axis=0)\n",
        "- np.vstack(tuple 형태): 수직 방향 배열 결합, axis=0과 동일한 의미를 가진다.\n",
        "- np. hstack(): 수평 방향 배열 결합, axis=1과 동일한 의미를 가진다.\n"
      ],
      "metadata": {
        "id": "gU10TerPNMd6"
      }
    },
    {
      "cell_type": "code",
      "source": [
        "a = np.arange(1,7).reshape((2,3))\n",
        "pprint(a)\n",
        "b = np.arange(7,13).reshape((2,3))\n",
        "pprint(b)"
      ],
      "metadata": {
        "colab": {
          "base_uri": "https://localhost:8080/"
        },
        "id": "WUGUiElaOBOi",
        "outputId": "db41d44a-e5e0-4945-f8ba-495705ac7cdc"
      },
      "execution_count": null,
      "outputs": [
        {
          "output_type": "stream",
          "name": "stdout",
          "text": [
            "type: <class 'numpy.ndarray'>\n",
            "shape:(2, 3), dimension:2, dtype:int64\n",
            "Array's Data: \n",
            " [[1 2 3]\n",
            " [4 5 6]]\n",
            "type: <class 'numpy.ndarray'>\n",
            "shape:(2, 3), dimension:2, dtype:int64\n",
            "Array's Data: \n",
            " [[ 7  8  9]\n",
            " [10 11 12]]\n"
          ]
        }
      ]
    },
    {
      "cell_type": "code",
      "source": [
        "result = np.concatenate((a,b)) # axis = 0, vstack\n",
        "pprint(result)"
      ],
      "metadata": {
        "colab": {
          "base_uri": "https://localhost:8080/"
        },
        "id": "6w0hZ_tGOOVl",
        "outputId": "57ee7b06-0fac-414b-e355-120c65f76266"
      },
      "execution_count": null,
      "outputs": [
        {
          "output_type": "stream",
          "name": "stdout",
          "text": [
            "type: <class 'numpy.ndarray'>\n",
            "shape:(4, 3), dimension:2, dtype:int64\n",
            "Array's Data: \n",
            " [[ 1  2  3]\n",
            " [ 4  5  6]\n",
            " [ 7  8  9]\n",
            " [10 11 12]]\n"
          ]
        }
      ]
    },
    {
      "cell_type": "code",
      "source": [
        "result = np.concatenate((a,b), axis=1)\n",
        "pprint(result)"
      ],
      "metadata": {
        "colab": {
          "base_uri": "https://localhost:8080/"
        },
        "id": "pzB2hu1COT2i",
        "outputId": "17db5f35-1747-406d-8c9e-21401cfc4fce"
      },
      "execution_count": null,
      "outputs": [
        {
          "output_type": "stream",
          "name": "stdout",
          "text": [
            "type: <class 'numpy.ndarray'>\n",
            "shape:(2, 6), dimension:2, dtype:int64\n",
            "Array's Data: \n",
            " [[ 1  2  3  7  8  9]\n",
            " [ 4  5  6 10 11 12]]\n"
          ]
        }
      ]
    },
    {
      "cell_type": "code",
      "source": [
        "np.vstack((a,b))"
      ],
      "metadata": {
        "colab": {
          "base_uri": "https://localhost:8080/"
        },
        "id": "wd2q-_KYOvSu",
        "outputId": "f0fe35f6-b43a-4295-9c1d-01a144c3c678"
      },
      "execution_count": null,
      "outputs": [
        {
          "output_type": "execute_result",
          "data": {
            "text/plain": [
              "array([[ 1,  2,  3],\n",
              "       [ 4,  5,  6],\n",
              "       [ 7,  8,  9],\n",
              "       [10, 11, 12]])"
            ]
          },
          "metadata": {},
          "execution_count": 201
        }
      ]
    },
    {
      "cell_type": "code",
      "source": [
        "np.vstack((a,b,a,b))"
      ],
      "metadata": {
        "colab": {
          "base_uri": "https://localhost:8080/"
        },
        "id": "lqWM4weaO6bR",
        "outputId": "cb8ae9ea-4255-4549-f619-0ab73f4592ab"
      },
      "execution_count": null,
      "outputs": [
        {
          "output_type": "execute_result",
          "data": {
            "text/plain": [
              "array([[ 1,  2,  3],\n",
              "       [ 4,  5,  6],\n",
              "       [ 7,  8,  9],\n",
              "       [10, 11, 12],\n",
              "       [ 1,  2,  3],\n",
              "       [ 4,  5,  6],\n",
              "       [ 7,  8,  9],\n",
              "       [10, 11, 12]])"
            ]
          },
          "metadata": {},
          "execution_count": 202
        }
      ]
    },
    {
      "cell_type": "markdown",
      "source": [
        "**배열분리: 수직, 수평으로 분할하는 함수를 제공**\n",
        "- hp.hsplit(): 지정한 배열을 수평(행)방향으로 분할\n",
        "- hp.vsplit(): 지정한 배열을 수직(열)방향으로 분할\n"
      ],
      "metadata": {
        "id": "kMYjPee7O9aa"
      }
    },
    {
      "cell_type": "code",
      "source": [
        "a = np.arange(1,25).reshape((4,6))\n",
        "pprint(a)"
      ],
      "metadata": {
        "colab": {
          "base_uri": "https://localhost:8080/"
        },
        "id": "2VSeceCNPcU9",
        "outputId": "497d8105-92f0-424f-c95b-c87cc15a2a3a"
      },
      "execution_count": null,
      "outputs": [
        {
          "output_type": "stream",
          "name": "stdout",
          "text": [
            "type: <class 'numpy.ndarray'>\n",
            "shape:(4, 6), dimension:2, dtype:int64\n",
            "Array's Data: \n",
            " [[ 1  2  3  4  5  6]\n",
            " [ 7  8  9 10 11 12]\n",
            " [13 14 15 16 17 18]\n",
            " [19 20 21 22 23 24]]\n"
          ]
        }
      ]
    },
    {
      "cell_type": "code",
      "source": [
        "result = np.hsplit(a,2) # shape(2,4,3)\n",
        "result"
      ],
      "metadata": {
        "colab": {
          "base_uri": "https://localhost:8080/"
        },
        "id": "2woFO3u7PheY",
        "outputId": "5b4e257c-57a1-463d-a9e8-ef0e19961735"
      },
      "execution_count": null,
      "outputs": [
        {
          "output_type": "execute_result",
          "data": {
            "text/plain": [
              "[array([[ 1,  2,  3],\n",
              "        [ 7,  8,  9],\n",
              "        [13, 14, 15],\n",
              "        [19, 20, 21]]),\n",
              " array([[ 4,  5,  6],\n",
              "        [10, 11, 12],\n",
              "        [16, 17, 18],\n",
              "        [22, 23, 24]])]"
            ]
          },
          "metadata": {},
          "execution_count": 204
        }
      ]
    },
    {
      "cell_type": "code",
      "source": [
        "result = np.hsplit(a,3)  # 3,4,2\n",
        "result\n"
      ],
      "metadata": {
        "colab": {
          "base_uri": "https://localhost:8080/"
        },
        "id": "vuoDOariQAy6",
        "outputId": "c6b83f18-1b2c-44c9-d4f3-e17a6be406c3"
      },
      "execution_count": null,
      "outputs": [
        {
          "output_type": "execute_result",
          "data": {
            "text/plain": [
              "[array([[ 1,  2],\n",
              "        [ 7,  8],\n",
              "        [13, 14],\n",
              "        [19, 20]]),\n",
              " array([[ 3,  4],\n",
              "        [ 9, 10],\n",
              "        [15, 16],\n",
              "        [21, 22]]),\n",
              " array([[ 5,  6],\n",
              "        [11, 12],\n",
              "        [17, 18],\n",
              "        [23, 24]])]"
            ]
          },
          "metadata": {},
          "execution_count": 205
        }
      ]
    },
    {
      "cell_type": "code",
      "source": [
        "# 수평 방향으로 여러 구간(index)로 분할\n",
        "# np.hsplit(arr, [indexes...])\n",
        "np.hsplit(a, [1,3,5]) # [:,:1], [:, 1:3], [:, 3:5], [:, :5:]\n"
      ],
      "metadata": {
        "colab": {
          "base_uri": "https://localhost:8080/"
        },
        "id": "NQULi68KQXTF",
        "outputId": "5ef13795-ab78-4af7-fa13-5d4a2f81b039"
      },
      "execution_count": null,
      "outputs": [
        {
          "output_type": "execute_result",
          "data": {
            "text/plain": [
              "[array([[ 1],\n",
              "        [ 7],\n",
              "        [13],\n",
              "        [19]]),\n",
              " array([[ 2,  3],\n",
              "        [ 8,  9],\n",
              "        [14, 15],\n",
              "        [20, 21]]),\n",
              " array([[ 4,  5],\n",
              "        [10, 11],\n",
              "        [16, 17],\n",
              "        [22, 23]]),\n",
              " array([[ 6],\n",
              "        [12],\n",
              "        [18],\n",
              "        [24]])]"
            ]
          },
          "metadata": {},
          "execution_count": 206
        }
      ]
    },
    {
      "cell_type": "markdown",
      "source": [
        "**배열 수직 분할: np.vsplit(arr, 분할기준)**"
      ],
      "metadata": {
        "id": "NdfIG_G8RCHz"
      }
    },
    {
      "cell_type": "code",
      "source": [
        "a = np.arange(1,25).reshape((4,6))\n",
        "pprint(a)"
      ],
      "metadata": {
        "colab": {
          "base_uri": "https://localhost:8080/"
        },
        "id": "fcSPB0_6RXhs",
        "outputId": "82fcb0e8-a848-4dfe-8638-28143cdd0b4b"
      },
      "execution_count": null,
      "outputs": [
        {
          "output_type": "stream",
          "name": "stdout",
          "text": [
            "type: <class 'numpy.ndarray'>\n",
            "shape:(4, 6), dimension:2, dtype:int64\n",
            "Array's Data: \n",
            " [[ 1  2  3  4  5  6]\n",
            " [ 7  8  9 10 11 12]\n",
            " [13 14 15 16 17 18]\n",
            " [19 20 21 22 23 24]]\n"
          ]
        }
      ]
    },
    {
      "cell_type": "code",
      "source": [
        "# 수직 방향으로 배열을 두 개로 분할\n",
        "np.vsplit(a,2) # a[:2, :], a[2:, :], a(2,2,6)"
      ],
      "metadata": {
        "colab": {
          "base_uri": "https://localhost:8080/"
        },
        "id": "iin7H-qbRc8P",
        "outputId": "bd3e69b6-7998-4be6-975a-0b04c55bc0ac"
      },
      "execution_count": null,
      "outputs": [
        {
          "output_type": "execute_result",
          "data": {
            "text/plain": [
              "[array([[ 1,  2,  3,  4,  5,  6],\n",
              "        [ 7,  8,  9, 10, 11, 12]]),\n",
              " array([[13, 14, 15, 16, 17, 18],\n",
              "        [19, 20, 21, 22, 23, 24]])]"
            ]
          },
          "metadata": {},
          "execution_count": 208
        }
      ]
    },
    {
      "cell_type": "code",
      "source": [
        "result = np.vsplit(a,2)\n",
        "result"
      ],
      "metadata": {
        "colab": {
          "base_uri": "https://localhost:8080/"
        },
        "id": "AleuiXkLR3nW",
        "outputId": "f9353cdb-8156-4f42-f602-622bd52c846a"
      },
      "execution_count": null,
      "outputs": [
        {
          "output_type": "execute_result",
          "data": {
            "text/plain": [
              "[array([[ 1,  2,  3,  4,  5,  6],\n",
              "        [ 7,  8,  9, 10, 11, 12]]),\n",
              " array([[13, 14, 15, 16, 17, 18],\n",
              "        [19, 20, 21, 22, 23, 24]])]"
            ]
          },
          "metadata": {},
          "execution_count": 210
        }
      ]
    },
    {
      "cell_type": "code",
      "source": [
        "np.array(result).shape"
      ],
      "metadata": {
        "colab": {
          "base_uri": "https://localhost:8080/"
        },
        "id": "Bob_tHCeR8Xn",
        "outputId": "a64d3e13-c48f-4379-dd75-002d7528d701"
      },
      "execution_count": null,
      "outputs": [
        {
          "output_type": "execute_result",
          "data": {
            "text/plain": [
              "(2, 2, 6)"
            ]
          },
          "metadata": {},
          "execution_count": 211
        }
      ]
    },
    {
      "cell_type": "code",
      "source": [
        "result = np.vsplit(a,4)\n",
        "result"
      ],
      "metadata": {
        "colab": {
          "base_uri": "https://localhost:8080/"
        },
        "id": "FgLUnIZpSCiv",
        "outputId": "9886b608-df95-4d26-d497-8492f4ea9251"
      },
      "execution_count": null,
      "outputs": [
        {
          "output_type": "execute_result",
          "data": {
            "text/plain": [
              "[array([[1, 2, 3, 4, 5, 6]]),\n",
              " array([[ 7,  8,  9, 10, 11, 12]]),\n",
              " array([[13, 14, 15, 16, 17, 18]]),\n",
              " array([[19, 20, 21, 22, 23, 24]])]"
            ]
          },
          "metadata": {},
          "execution_count": 212
        }
      ]
    },
    {
      "cell_type": "code",
      "source": [
        "np.array(result).shape"
      ],
      "metadata": {
        "colab": {
          "base_uri": "https://localhost:8080/"
        },
        "id": "ctbqoGk4SG7A",
        "outputId": "f03d8956-65ae-4eee-90c3-5ae5b619308d"
      },
      "execution_count": null,
      "outputs": [
        {
          "output_type": "execute_result",
          "data": {
            "text/plain": [
              "(4, 1, 6)"
            ]
          },
          "metadata": {},
          "execution_count": 213
        }
      ]
    },
    {
      "cell_type": "code",
      "source": [
        "# row를 1, 2-3, 4분할\n",
        "np.vsplit(a, [1,3])"
      ],
      "metadata": {
        "id": "zkIl1yggSQ2f"
      },
      "execution_count": null,
      "outputs": []
    }
  ]
}